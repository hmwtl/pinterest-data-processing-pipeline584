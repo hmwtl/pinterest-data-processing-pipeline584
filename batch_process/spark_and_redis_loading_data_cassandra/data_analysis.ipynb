{
  "cells": [
    {
      "attachments": {},
      "cell_type": "markdown",
      "metadata": {
        "id": "I1dG6KsFxyfz"
      },
      "source": [
        "# Pinterest ETL pipeline (spark alone)"
      ]
    },
    {
      "cell_type": "markdown",
      "metadata": {
        "id": "Y2ROtZx0xyf2"
      },
      "source": [
        "### Import packages"
      ]
    },
    {
      "cell_type": "code",
      "execution_count": 1,
      "metadata": {
        "id": "QEnWfq7Qxyf2"
      },
      "outputs": [],
      "source": [
        "import findspark\n",
        "findspark.init()\n",
        "import pyspark\n",
        "from pyspark.sql.types import StructType,StructField, StringType, IntegerType\n",
        "from cassandra.cluster import Cluster\n",
        "import multiprocessing\n",
        "from pyspark.sql import SparkSession\n",
        "from pyspark import SparkConf\n",
        "from pyspark.sql.functions import when, regexp_replace, regexp_extract, col\n",
        "import requests\n",
        "from time import sleep\n",
        "import random\n",
        "from multiprocessing import Process\n",
        "import boto3\n",
        "import json\n",
        "import sqlalchemy\n",
        "import uuid\n",
        "import os \n",
        "import timeit"
      ]
    },
    {
      "cell_type": "markdown",
      "metadata": {
        "id": "6xqDfo1pxyf4"
      },
      "source": [
        "### Loading data from source"
      ]
    },
    {
      "cell_type": "code",
      "execution_count": null,
      "metadata": {
        "id": "B7xxmu0Pxyf4"
      },
      "outputs": [],
      "source": [
        "class AWSDBConnector:\n",
        "\n",
        "    def __init__(self):\n",
        "\n",
        "        self.HOST = \"pinterestdbreadonly.cq2e8zno855e.eu-west-1.rds.amazonaws.com\"\n",
        "        self.USER = 'project_user'\n",
        "        self.PASSWORD = <password>\n",
        "        self.DATABASE = 'pinterest_data'\n",
        "        self.PORT = 3306\n",
        "        \n",
        "    def create_db_connector(self):\n",
        "        engine = sqlalchemy.create_engine(f\"mysql+pymysql://{self.USER}:{self.PASSWORD}@{self.HOST}:{self.PORT}/{self.DATABASE}?charset=utf8mb4\")\n",
        "        return engine\n",
        "\n",
        "\n",
        "new_connector = AWSDBConnector()\n",
        "engine = new_connector.create_db_connector()"
      ]
    },
    {
      "cell_type": "code",
      "execution_count": null,
      "metadata": {
        "id": "63ZwxnWCxyf5",
        "outputId": "e0ccb260-3199-470c-ff83-1ec869e0639f"
      },
      "outputs": [],
      "source": [
        "# create uuid for unique file names\n",
        "id = uuid.uuid4()\n",
        "str(id)"
      ]
    },
    {
      "cell_type": "code",
      "execution_count": null,
      "metadata": {
        "id": "tC-oZNVbxyf6"
      },
      "outputs": [],
      "source": [
        "# save json file to designated location\n",
        "n=0\n",
        "while True:\n",
        "\n",
        "    \n",
        "    selected_row = engine.execute(f\"SELECT * FROM pinterest_data LIMIT {n}, 1\")\n",
        "    for row in selected_row:\n",
        "        result = dict(row)\n",
        "    n+=1\n",
        "    file_name = str(id) + \"_\" + str(n)+ \".\" + \"json\"\n",
        "    path_to_the_file = '/Users/tanyali/Documents/practice/data/' + file_name\n",
        "    file = json.dumps(result)\n",
        "    with open(path_to_the_file, 'w') as outfile:\n",
        "        outfile.write(file)\n",
        "    # print(result)"
      ]
    },
    {
      "cell_type": "markdown",
      "metadata": {
        "id": "K7lKud4Kxyf7"
      },
      "source": [
        "### Initialise pyspark session and loading data"
      ]
    },
    {
      "cell_type": "code",
      "execution_count": 2,
      "metadata": {
        "id": "JTFhG9QXxyf7"
      },
      "outputs": [
        {
          "name": "stdout",
          "output_type": "stream",
          "text": [
            "The start time is : 19720.038055903\n"
          ]
        },
        {
          "name": "stderr",
          "output_type": "stream",
          "text": [
            "23/01/11 19:07:28 WARN Utils: Your hostname, h1m1w1-CRAWLER-E10 resolves to a loopback address: 127.0.1.1; using 192.168.1.121 instead (on interface wlp0s20f3)\n",
            "23/01/11 19:07:28 WARN Utils: Set SPARK_LOCAL_IP if you need to bind to another address\n",
            "Using Spark's default log4j profile: org/apache/spark/log4j-defaults.properties\n",
            "Setting default log level to \"WARN\".\n",
            "To adjust logging level use sc.setLogLevel(newLevel). For SparkR, use setLogLevel(newLevel).\n",
            "23/01/11 19:07:29 WARN NativeCodeLoader: Unable to load native-hadoop library for your platform... using builtin-java classes where applicable\n"
          ]
        },
        {
          "name": "stdout",
          "output_type": "stream",
          "text": [
            "The time spent is : 5.3080177969968645\n"
          ]
        }
      ],
      "source": [
        "# initialise pyspark session\n",
        "starttime = timeit.default_timer()\n",
        "print(\"The start time is :\",starttime)\n",
        "spark = SparkSession.builder \\\n",
        "        .master(f\"local[{multiprocessing.cpu_count()}]\") \\\n",
        "        .appName(\"pin_app\") \\\n",
        "        .getOrCreate()\n",
        "\n",
        "print(\"The time spent is :\", timeit.default_timer() - starttime)\n",
        "\n",
        "hadoopConf = sc._jsc.hadoopConfiguration()\n",
        "hadoopConf.set(\"fs.s3.impl\", \"org.apache.hadoop.fs.s3a.S3AFileSystem\")\n",
        "hadoopConf.set('fs.s3a.access.key',<your access key>)\n",
        "hadoopConf.set('fs.s3a.secret.key', <your secret key>)\n",
        "hadoopConf.set('spark.hadoop.fs.s3a.aws.credentials.provider', 'org.apache.hadoop.fs.s3a.SimpleAWSCredentialsProvider')\n",
        "\n"
      ]
    },
    {
      "cell_type": "code",
      "execution_count": 3,
      "metadata": {
        "id": "4GUNVm-qxyf8",
        "outputId": "8c82fca4-0921-4a05-970b-5a328aff5f17"
      },
      "outputs": [
        {
          "name": "stdout",
          "output_type": "stream",
          "text": [
            "The start time is : 19725.506774901\n"
          ]
        },
        {
          "name": "stderr",
          "output_type": "stream",
          "text": [
            "                                                                                \r"
          ]
        },
        {
          "name": "stdout",
          "output_type": "stream",
          "text": [
            "+----------+--------------------+----------+--------------+--------------------+-----+-----------------+-------------+--------------------+--------------------+--------------------+--------------------+\n",
            "|  category|         description|downloaded|follower_count|           image_src|index|is_image_or_video|  poster_name|       save_location|            tag_list|               title|           unique_id|\n",
            "+----------+--------------------+----------+--------------+--------------------+-----+-----------------+-------------+--------------------+--------------------+--------------------+--------------------+\n",
            "|   tattoos|Elmira Kruger sha...|         1|           848|https://i.pinimg....| 8822|            image|Alicia Keller|Local save in /da...|Arm Sleeve Tattoo...|Elmira Kruger on ...|db80a4e4-293a-45c...|\n",
            "|home-decor|Вместе с Русланом...|         1|           35k|https://i.pinimg....| 5996|            image|  INMYROOM.RU|Local save in /da...|Scandinavian Inte...|Где найти и как о...|4081ef06-637d-4cf...|\n",
            "+----------+--------------------+----------+--------------+--------------------+-----+-----------------+-------------+--------------------+--------------------+--------------------+--------------------+\n",
            "only showing top 2 rows\n",
            "\n",
            "The time spent is : 59.745514182999614\n"
          ]
        }
      ],
      "source": [
        "# load data as json files\n",
        "starttime = timeit.default_timer()\n",
        "print(\"The start time is :\",starttime)\n",
        "df = spark.read.json(\"basicaccountstack-pinterestdataeng-proje-datalake-tcvpj2nf0cpq\/*.json\")\n",
        "df.show(2)\n",
        "print(\"The time spent is :\", timeit.default_timer() - starttime)\n"
      ]
    },
    {
      "attachments": {},
      "cell_type": "markdown",
      "metadata": {
        "id": "GTk2xQaWxyf8"
      },
      "source": [
        "### Data cleaning / Remove duplicates "
      ]
    },
    {
      "cell_type": "code",
      "execution_count": 4,
      "metadata": {
        "id": "sppyfDM4xyf8",
        "outputId": "fd9c8835-3cae-4774-e6d1-ec07111b74d1"
      },
      "outputs": [
        {
          "name": "stdout",
          "output_type": "stream",
          "text": [
            "The start time is : 19785.316717128\n"
          ]
        },
        {
          "name": "stderr",
          "output_type": "stream",
          "text": [
            "[Stage 4:=====================================================> (616 + 8) / 633]\r"
          ]
        },
        {
          "name": "stdout",
          "output_type": "stream",
          "text": [
            "The time spent is : 10.380271232999803\n"
          ]
        },
        {
          "name": "stderr",
          "output_type": "stream",
          "text": [
            "                                                                                \r"
          ]
        }
      ],
      "source": [
        "# total rows\n",
        "starttime = timeit.default_timer()\n",
        "print(\"The start time is :\",starttime)\n",
        "df.count()\n",
        "print(\"The time spent is :\", timeit.default_timer() - starttime)\n"
      ]
    },
    {
      "cell_type": "code",
      "execution_count": 5,
      "metadata": {
        "id": "HSqyYGxpxyf9"
      },
      "outputs": [
        {
          "name": "stdout",
          "output_type": "stream",
          "text": [
            "The start time is : 19785.316717128\n",
            "The time spent is : 10.451987335000013\n"
          ]
        }
      ],
      "source": [
        "# remove duplicate rows\n",
        "print(\"The start time is :\",starttime)\n",
        "df =df.dropDuplicates()\n",
        "print(\"The time spent is :\", timeit.default_timer() - starttime)\n"
      ]
    },
    {
      "cell_type": "code",
      "execution_count": 6,
      "metadata": {
        "id": "4ZlBIMBOxyf9",
        "outputId": "89513bde-2128-40d4-944f-852f53f8621b"
      },
      "outputs": [
        {
          "name": "stdout",
          "output_type": "stream",
          "text": [
            "The start time is : 19785.316717128\n"
          ]
        },
        {
          "name": "stderr",
          "output_type": "stream",
          "text": [
            "[Stage 7:======================================================>(629 + 4) / 633]\r"
          ]
        },
        {
          "name": "stdout",
          "output_type": "stream",
          "text": [
            "11154\n",
            "The time spent is : 23.528107127000112\n"
          ]
        },
        {
          "name": "stderr",
          "output_type": "stream",
          "text": [
            "                                                                                \r"
          ]
        }
      ],
      "source": [
        "# total rows after removing duplicates.\n",
        "print(\"The start time is :\",starttime)\n",
        "print(df.count())\n",
        "print(\"The time spent is :\", timeit.default_timer() - starttime)\n"
      ]
    },
    {
      "cell_type": "markdown",
      "metadata": {
        "id": "VuTXNALCxyf9"
      },
      "source": [
        "### Data transformation"
      ]
    },
    {
      "cell_type": "code",
      "execution_count": 7,
      "metadata": {
        "id": "61MpmqAQxyf9",
        "outputId": "de92e029-8909-47b9-b048-9e89c438b891"
      },
      "outputs": [
        {
          "name": "stdout",
          "output_type": "stream",
          "text": [
            "The start time is : 19785.316717128\n",
            "root\n",
            " |-- category: string (nullable = true)\n",
            " |-- description: string (nullable = true)\n",
            " |-- downloaded: long (nullable = true)\n",
            " |-- follower_count: string (nullable = true)\n",
            " |-- image_src: string (nullable = true)\n",
            " |-- index: long (nullable = true)\n",
            " |-- is_image_or_video: string (nullable = true)\n",
            " |-- poster_name: string (nullable = true)\n",
            " |-- save_location: string (nullable = true)\n",
            " |-- tag_list: string (nullable = true)\n",
            " |-- title: string (nullable = true)\n",
            " |-- unique_id: string (nullable = true)\n",
            "\n",
            "The time spent is : 23.612113768998825\n"
          ]
        }
      ],
      "source": [
        "# dataset schema\n",
        "print(\"The start time is :\",starttime)\n",
        "df.printSchema()\n",
        "print(\"The time spent is :\", timeit.default_timer() - starttime)\n"
      ]
    },
    {
      "cell_type": "code",
      "execution_count": 8,
      "metadata": {
        "id": "Ix3avMVlxyf-",
        "outputId": "c431ad5d-7986-41a8-83c3-9a5dbd340257"
      },
      "outputs": [
        {
          "name": "stdout",
          "output_type": "stream",
          "text": [
            "The start time is : 19785.316717128\n",
            "The time spent is : 23.705660696999985\n"
          ]
        }
      ],
      "source": [
        "print(\"The start time is :\",starttime)\n",
        "df.dtypes\n",
        "print(\"The time spent is :\", timeit.default_timer() - starttime)\n"
      ]
    },
    {
      "cell_type": "code",
      "execution_count": 9,
      "metadata": {
        "id": "8BZFAOPxxyf-",
        "outputId": "0bbb5976-506e-40dd-e0b6-47cb2cd1963a"
      },
      "outputs": [
        {
          "name": "stdout",
          "output_type": "stream",
          "text": [
            "The start time is : 19785.316717128\n",
            "The time spent is : 23.780087338000158\n"
          ]
        }
      ],
      "source": [
        "# column names\n",
        "print(\"The start time is :\",starttime)\n",
        "df.columns\n",
        "print(\"The time spent is :\", timeit.default_timer() - starttime)\n"
      ]
    },
    {
      "cell_type": "code",
      "execution_count": 10,
      "metadata": {
        "id": "PKUDHnITxyf-",
        "outputId": "b2115dba-b560-4c0f-ad7d-2ce6f7effe49"
      },
      "outputs": [
        {
          "name": "stdout",
          "output_type": "stream",
          "text": [
            "The start time is : 19785.316717128\n"
          ]
        },
        {
          "name": "stderr",
          "output_type": "stream",
          "text": [
            "                                                                                \r"
          ]
        },
        {
          "name": "stdout",
          "output_type": "stream",
          "text": [
            "+--------------+-----+\n",
            "|      category|count|\n",
            "+--------------+-----+\n",
            "|     christmas|  999|\n",
            "|       tattoos|  970|\n",
            "|        quotes|  910|\n",
            "|           art|  892|\n",
            "|     education|  863|\n",
            "|    home-decor|  861|\n",
            "|        travel|  859|\n",
            "|  mens-fashion|  852|\n",
            "|      vehicles|  838|\n",
            "|diy-and-crafts|  830|\n",
            "|       finance|  786|\n",
            "|event-planning|  748|\n",
            "|        beauty|  746|\n",
            "+--------------+-----+\n",
            "\n"
          ]
        },
        {
          "name": "stderr",
          "output_type": "stream",
          "text": [
            "                                                                                \r"
          ]
        },
        {
          "name": "stdout",
          "output_type": "stream",
          "text": [
            "+--------------------+-----+\n",
            "|         description|count|\n",
            "+--------------------+-----+\n",
            "|No description av...|  895|\n",
            "|No description av...|  182|\n",
            "|Relationship Rule...|   40|\n",
            "|Our mission at K&...|   24|\n",
            "|Is your order tim...|   14|\n",
            "|Imagine your birt...|   14|\n",
            "|Top Apps for Even...|   14|\n",
            "|Use our easy step...|   12|\n",
            "|It doesn't matter...|   12|\n",
            "|Provide a creativ...|   12|\n",
            "|Macho Moda: Blog ...|    9|\n",
            "|Afrocentric Bathr...|    9|\n",
            "|There are more wa...|    7|\n",
            "|Healing takes str...|    7|\n",
            "|Mental health tat...|    7|\n",
            "|Tara Jane Crandon...|    7|\n",
            "|Getting a tattoo ...|    7|\n",
            "|Made of quality w...|    7|\n",
            "|Are you bored liv...|    6|\n",
            "|Battery Powered, ...|    6|\n",
            "+--------------------+-----+\n",
            "only showing top 20 rows\n",
            "\n"
          ]
        },
        {
          "name": "stderr",
          "output_type": "stream",
          "text": [
            "                                                                                \r"
          ]
        },
        {
          "name": "stdout",
          "output_type": "stream",
          "text": [
            "+----------+-----+\n",
            "|downloaded|count|\n",
            "+----------+-----+\n",
            "|         1|10823|\n",
            "|         0|  331|\n",
            "+----------+-----+\n",
            "\n"
          ]
        },
        {
          "name": "stderr",
          "output_type": "stream",
          "text": [
            "                                                                                \r"
          ]
        },
        {
          "name": "stdout",
          "output_type": "stream",
          "text": [
            "+--------------+-----+\n",
            "|follower_count|count|\n",
            "+--------------+-----+\n",
            "|            2M|  375|\n",
            "|            2k|  342|\n",
            "|            4k|  261|\n",
            "|          942k|  244|\n",
            "|            5k|  235|\n",
            "|            7k|  230|\n",
            "|            1k|  228|\n",
            "|            3k|  226|\n",
            "|            5M|  215|\n",
            "|            6k|  178|\n",
            "|            1M|  178|\n",
            "|            9k|  144|\n",
            "|            8k|  132|\n",
            "|           10k|  115|\n",
            "|           28k|  115|\n",
            "|           19k|  101|\n",
            "|           20k|  100|\n",
            "|           13k|   94|\n",
            "|           14k|   92|\n",
            "|          190k|   90|\n",
            "+--------------+-----+\n",
            "only showing top 20 rows\n",
            "\n"
          ]
        },
        {
          "name": "stderr",
          "output_type": "stream",
          "text": [
            "                                                                                \r"
          ]
        },
        {
          "name": "stdout",
          "output_type": "stream",
          "text": [
            "+--------------------+-----+\n",
            "|           image_src|count|\n",
            "+--------------------+-----+\n",
            "|    Image src error.|  323|\n",
            "|                null|    7|\n",
            "|https://i.pinimg....|    2|\n",
            "|https://i.pinimg....|    2|\n",
            "|https://i.pinimg....|    2|\n",
            "|https://i.pinimg....|    2|\n",
            "|https://i.pinimg....|    2|\n",
            "|https://i.pinimg....|    2|\n",
            "|https://i.pinimg....|    2|\n",
            "|https://i.pinimg....|    2|\n",
            "|https://i.pinimg....|    2|\n",
            "|https://i.pinimg....|    2|\n",
            "|https://i.pinimg....|    2|\n",
            "|https://i.pinimg....|    2|\n",
            "|https://i.pinimg....|    2|\n",
            "|https://i.pinimg....|    2|\n",
            "|https://i.pinimg....|    2|\n",
            "|https://i.pinimg....|    2|\n",
            "|https://i.pinimg....|    2|\n",
            "|https://i.pinimg....|    2|\n",
            "+--------------------+-----+\n",
            "only showing top 20 rows\n",
            "\n"
          ]
        },
        {
          "name": "stderr",
          "output_type": "stream",
          "text": [
            "                                                                                \r"
          ]
        },
        {
          "name": "stdout",
          "output_type": "stream",
          "text": [
            "+-----+-----+\n",
            "|index|count|\n",
            "+-----+-----+\n",
            "| 1950|    1|\n",
            "| 1677|    1|\n",
            "| 9715|    1|\n",
            "| 6424|    1|\n",
            "| 7544|    1|\n",
            "| 9444|    1|\n",
            "| 7664|    1|\n",
            "| 2909|    1|\n",
            "| 2989|    1|\n",
            "| 7679|    1|\n",
            "| 4551|    1|\n",
            "| 6489|    1|\n",
            "|10430|    1|\n",
            "| 6856|    1|\n",
            "| 8636|    1|\n",
            "| 3937|    1|\n",
            "| 7121|    1|\n",
            "| 4191|    1|\n",
            "| 1919|    1|\n",
            "| 3120|    1|\n",
            "+-----+-----+\n",
            "only showing top 20 rows\n",
            "\n"
          ]
        },
        {
          "name": "stderr",
          "output_type": "stream",
          "text": [
            "                                                                                \r"
          ]
        },
        {
          "name": "stdout",
          "output_type": "stream",
          "text": [
            "+--------------------+-----+\n",
            "|   is_image_or_video|count|\n",
            "+--------------------+-----+\n",
            "|               image| 9920|\n",
            "|multi-video(story...|  895|\n",
            "|               video|  332|\n",
            "|                null|    7|\n",
            "+--------------------+-----+\n",
            "\n"
          ]
        },
        {
          "name": "stderr",
          "output_type": "stream",
          "text": [
            "                                                                                \r"
          ]
        },
        {
          "name": "stdout",
          "output_type": "stream",
          "text": [
            "+--------------------+-----+\n",
            "|         poster_name|count|\n",
            "+--------------------+-----+\n",
            "|           YourTango|  244|\n",
            "|         Bored Panda|  140|\n",
            "|    Our Mindful Life|   88|\n",
            "|     User Info Error|   88|\n",
            "|   The Minds Journal|   86|\n",
            "|             Walmart|   86|\n",
            "|            BuzzFeed|   81|\n",
            "|Dividends Diversi...|   68|\n",
            "|         Boop Decals|   60|\n",
            "|         Next Luxury|   54|\n",
            "|           SOCIETY19|   53|\n",
            "|  One Little Project|   49|\n",
            "|             Blossom|   47|\n",
            "|        TheUnstitchd|   45|\n",
            "|            HikenDip|   45|\n",
            "|Mens Fashion - LI...|   44|\n",
            "|            Wear24-7|   38|\n",
            "|Mala Rock | Rock ...|   36|\n",
            "|           Women.com|   35|\n",
            "|       WeAreTeachers|   35|\n",
            "+--------------------+-----+\n",
            "only showing top 20 rows\n",
            "\n"
          ]
        },
        {
          "name": "stderr",
          "output_type": "stream",
          "text": [
            "                                                                                \r"
          ]
        },
        {
          "name": "stdout",
          "output_type": "stream",
          "text": [
            "+--------------------+-----+\n",
            "|       save_location|count|\n",
            "+--------------------+-----+\n",
            "|Local save in /da...|  999|\n",
            "|Local save in /da...|  970|\n",
            "|Local save in /da...|  910|\n",
            "|Local save in /da...|  892|\n",
            "|Local save in /da...|  863|\n",
            "|Local save in /da...|  861|\n",
            "|Local save in /da...|  859|\n",
            "|Local save in /da...|  852|\n",
            "|Local save in /da...|  838|\n",
            "|Local save in /da...|  830|\n",
            "|Local save in /da...|  786|\n",
            "|Local save in /da...|  748|\n",
            "|Local save in /da...|  746|\n",
            "+--------------------+-----+\n",
            "\n"
          ]
        },
        {
          "name": "stderr",
          "output_type": "stream",
          "text": [
            "                                                                                \r"
          ]
        },
        {
          "name": "stdout",
          "output_type": "stream",
          "text": [
            "+--------------------+-----+\n",
            "|            tag_list|count|\n",
            "+--------------------+-----+\n",
            "|N,o, ,T,a,g,s, ,A...|  171|\n",
            "|Stop Motion,Hobbi...|    6|\n",
            "|Weekly Budget,Bud...|    3|\n",
            "|Boho Chic Living ...|    2|\n",
            "|Preschool Christm...|    2|\n",
            "|Love My Husband Q...|    2|\n",
            "|Candle Tattoo,Tre...|    2|\n",
            "|Preschool Christm...|    2|\n",
            "|Holiday Crafts Fo...|    2|\n",
            "|Christmas Yarn,Ch...|    2|\n",
            "|Christmas Art For...|    2|\n",
            "|Henley Shirts,Wom...|    2|\n",
            "|Printable Christm...|    2|\n",
            "|Rustic Christmas ...|    2|\n",
            "|Boho Kitchen,Farm...|    2|\n",
            "|Budgeting Finance...|    2|\n",
            "|Christmas Arts An...|    2|\n",
            "|Good Vibes Quotes...|    2|\n",
            "|Mode Masculine,Sh...|    2|\n",
            "|Christmas Arts An...|    2|\n",
            "+--------------------+-----+\n",
            "only showing top 20 rows\n",
            "\n"
          ]
        },
        {
          "name": "stderr",
          "output_type": "stream",
          "text": [
            "                                                                                \r"
          ]
        },
        {
          "name": "stdout",
          "output_type": "stream",
          "text": [
            "+--------------------+-----+\n",
            "|               title|count|\n",
            "+--------------------+-----+\n",
            "|No Title Data Ava...|   88|\n",
            "|  Relationship Rules|   17|\n",
            "|Top Apps for Even...|   14|\n",
            "|DIY Abstract Hear...|   12|\n",
            "|18 Daily Motivati...|   10|\n",
            "|Nine Favorite Thi...|    8|\n",
            "|115 Beautiful Sou...|    8|\n",
            "|MULTIPLE Afrocent...|    8|\n",
            "|Cobba | Non-stop ...|    7|\n",
            "|55 Inspiring Ment...|    7|\n",
            "|Artist Makes His ...|    7|\n",
            "|40 Stunning Natur...|    7|\n",
            "|51 Enigmatic Fore...|    7|\n",
            "|'I Love  You' Quo...|    7|\n",
            "|25 Mental Health ...|    7|\n",
            "|Sunsum® Manifesta...|    6|\n",
            "|Start a Party Pla...|    6|\n",
            "|Giuseppe Leonardi...|    6|\n",
            "|40 Elegant Dragon...|    6|\n",
            "|50 Tattoo Quotes ...|    6|\n",
            "+--------------------+-----+\n",
            "only showing top 20 rows\n",
            "\n"
          ]
        },
        {
          "name": "stderr",
          "output_type": "stream",
          "text": [
            "[Stage 79:====================================================> (618 + 8) / 633]\r"
          ]
        },
        {
          "name": "stdout",
          "output_type": "stream",
          "text": [
            "+--------------------+-----+\n",
            "|           unique_id|count|\n",
            "+--------------------+-----+\n",
            "|94b2a98b-ada5-4b2...|    1|\n",
            "|62acf454-cb9f-409...|    1|\n",
            "|c67d11ef-5f80-415...|    1|\n",
            "|fde4a067-e314-4e3...|    1|\n",
            "|653dda7a-b242-4a7...|    1|\n",
            "|5f6cdda5-c949-44f...|    1|\n",
            "|eea10ea4-65d4-49e...|    1|\n",
            "|d31885b7-742a-4e2...|    1|\n",
            "|d1dff8dd-8e25-498...|    1|\n",
            "|9182a3ca-4831-406...|    1|\n",
            "|238cfcc8-4403-4c9...|    1|\n",
            "|ca29a211-4a2c-42c...|    1|\n",
            "|cbbb03e5-a877-44a...|    1|\n",
            "|d9be03d3-c876-45a...|    1|\n",
            "|b3f03712-d2d7-45d...|    1|\n",
            "|65c96357-8969-465...|    1|\n",
            "|8404afec-5404-4c5...|    1|\n",
            "|7e5d4399-01b3-4b8...|    1|\n",
            "|9aa0c6aa-25ff-42e...|    1|\n",
            "|ee9a8324-31a2-495...|    1|\n",
            "+--------------------+-----+\n",
            "only showing top 20 rows\n",
            "\n",
            "The time spent is : 111.65712853500008\n"
          ]
        },
        {
          "name": "stderr",
          "output_type": "stream",
          "text": [
            "                                                                                \r"
          ]
        }
      ],
      "source": [
        "# check errors in each column\n",
        "print(\"The start time is :\",starttime)\n",
        "for i in df.columns:\n",
        "    df.groupBy(i).count().orderBy(\"count\", ascending=False).show()\n",
        "print(\"The time spent is :\", timeit.default_timer() - starttime)\n"
      ]
    },
    {
      "cell_type": "code",
      "execution_count": 11,
      "metadata": {
        "id": "3pGv9xzDxyf_",
        "outputId": "4e0e27b5-c534-431e-ba6d-74799f8a9246"
      },
      "outputs": [
        {
          "name": "stdout",
          "output_type": "stream",
          "text": [
            "The start time is : 19785.316717128\n"
          ]
        },
        {
          "name": "stderr",
          "output_type": "stream",
          "text": [
            "                                                                                \r"
          ]
        },
        {
          "name": "stdout",
          "output_type": "stream",
          "text": [
            "+--------------------+-----+\n",
            "|         description|count|\n",
            "+--------------------+-----+\n",
            "|No description av...|  895|\n",
            "|No description av...|  182|\n",
            "|Relationship Rule...|   40|\n",
            "|Our mission at K&...|   24|\n",
            "|Is your order tim...|   14|\n",
            "|Imagine your birt...|   14|\n",
            "|Top Apps for Even...|   14|\n",
            "|Use our easy step...|   12|\n",
            "|It doesn't matter...|   12|\n",
            "|Provide a creativ...|   12|\n",
            "|Macho Moda: Blog ...|    9|\n",
            "|Afrocentric Bathr...|    9|\n",
            "|There are more wa...|    7|\n",
            "|Healing takes str...|    7|\n",
            "|Mental health tat...|    7|\n",
            "|Tara Jane Crandon...|    7|\n",
            "|Getting a tattoo ...|    7|\n",
            "|Made of quality w...|    7|\n",
            "|Are you bored liv...|    6|\n",
            "|Battery Powered, ...|    6|\n",
            "+--------------------+-----+\n",
            "only showing top 20 rows\n",
            "\n"
          ]
        },
        {
          "name": "stderr",
          "output_type": "stream",
          "text": [
            "                                                                                \r"
          ]
        },
        {
          "name": "stdout",
          "output_type": "stream",
          "text": [
            "+--------------------+-----+\n",
            "|   is_image_or_video|count|\n",
            "+--------------------+-----+\n",
            "|               image| 9920|\n",
            "|multi-video(story...|  895|\n",
            "|               video|  332|\n",
            "|                null|    7|\n",
            "+--------------------+-----+\n",
            "\n"
          ]
        },
        {
          "name": "stderr",
          "output_type": "stream",
          "text": [
            "                                                                                \r"
          ]
        },
        {
          "name": "stdout",
          "output_type": "stream",
          "text": [
            "+--------------------+-----+\n",
            "|         poster_name|count|\n",
            "+--------------------+-----+\n",
            "|           YourTango|  244|\n",
            "|         Bored Panda|  140|\n",
            "|    Our Mindful Life|   88|\n",
            "|     User Info Error|   88|\n",
            "|   The Minds Journal|   86|\n",
            "|             Walmart|   86|\n",
            "|            BuzzFeed|   81|\n",
            "|Dividends Diversi...|   68|\n",
            "|         Boop Decals|   60|\n",
            "|         Next Luxury|   54|\n",
            "|           SOCIETY19|   53|\n",
            "|  One Little Project|   49|\n",
            "|             Blossom|   47|\n",
            "|        TheUnstitchd|   45|\n",
            "|            HikenDip|   45|\n",
            "|Mens Fashion - LI...|   44|\n",
            "|            Wear24-7|   38|\n",
            "|Mala Rock | Rock ...|   36|\n",
            "|           Women.com|   35|\n",
            "|       WeAreTeachers|   35|\n",
            "+--------------------+-----+\n",
            "only showing top 20 rows\n",
            "\n"
          ]
        },
        {
          "name": "stderr",
          "output_type": "stream",
          "text": [
            "                                                                                \r"
          ]
        },
        {
          "name": "stdout",
          "output_type": "stream",
          "text": [
            "+--------------------+-----+\n",
            "|       save_location|count|\n",
            "+--------------------+-----+\n",
            "|Local save in /da...|  999|\n",
            "|Local save in /da...|  970|\n",
            "|Local save in /da...|  910|\n",
            "|Local save in /da...|  892|\n",
            "|Local save in /da...|  863|\n",
            "|Local save in /da...|  861|\n",
            "|Local save in /da...|  859|\n",
            "|Local save in /da...|  852|\n",
            "|Local save in /da...|  838|\n",
            "|Local save in /da...|  830|\n",
            "|Local save in /da...|  786|\n",
            "|Local save in /da...|  748|\n",
            "|Local save in /da...|  746|\n",
            "+--------------------+-----+\n",
            "\n"
          ]
        },
        {
          "name": "stderr",
          "output_type": "stream",
          "text": [
            "                                                                                \r"
          ]
        },
        {
          "name": "stdout",
          "output_type": "stream",
          "text": [
            "+--------------------+-----+\n",
            "|            tag_list|count|\n",
            "+--------------------+-----+\n",
            "|N,o, ,T,a,g,s, ,A...|  171|\n",
            "|Stop Motion,Hobbi...|    6|\n",
            "|Weekly Budget,Bud...|    3|\n",
            "|Boho Chic Living ...|    2|\n",
            "|Preschool Christm...|    2|\n",
            "|Love My Husband Q...|    2|\n",
            "|Candle Tattoo,Tre...|    2|\n",
            "|Preschool Christm...|    2|\n",
            "|Holiday Crafts Fo...|    2|\n",
            "|Christmas Yarn,Ch...|    2|\n",
            "|Christmas Art For...|    2|\n",
            "|Henley Shirts,Wom...|    2|\n",
            "|Printable Christm...|    2|\n",
            "|Rustic Christmas ...|    2|\n",
            "|Boho Kitchen,Farm...|    2|\n",
            "|Budgeting Finance...|    2|\n",
            "|Christmas Arts An...|    2|\n",
            "|Good Vibes Quotes...|    2|\n",
            "|Mode Masculine,Sh...|    2|\n",
            "|Christmas Arts An...|    2|\n",
            "+--------------------+-----+\n",
            "only showing top 20 rows\n",
            "\n"
          ]
        },
        {
          "name": "stderr",
          "output_type": "stream",
          "text": [
            "[Stage 115:====================================================>(624 + 8) / 633]\r"
          ]
        },
        {
          "name": "stdout",
          "output_type": "stream",
          "text": [
            "+--------------------+-----+\n",
            "|               title|count|\n",
            "+--------------------+-----+\n",
            "|No Title Data Ava...|   88|\n",
            "|  Relationship Rules|   17|\n",
            "|Top Apps for Even...|   14|\n",
            "|DIY Abstract Hear...|   12|\n",
            "|18 Daily Motivati...|   10|\n",
            "|Nine Favorite Thi...|    8|\n",
            "|115 Beautiful Sou...|    8|\n",
            "|MULTIPLE Afrocent...|    8|\n",
            "|Cobba | Non-stop ...|    7|\n",
            "|55 Inspiring Ment...|    7|\n",
            "|Artist Makes His ...|    7|\n",
            "|40 Stunning Natur...|    7|\n",
            "|51 Enigmatic Fore...|    7|\n",
            "|'I Love  You' Quo...|    7|\n",
            "|25 Mental Health ...|    7|\n",
            "|Sunsum® Manifesta...|    6|\n",
            "|Start a Party Pla...|    6|\n",
            "|Giuseppe Leonardi...|    6|\n",
            "|40 Elegant Dragon...|    6|\n",
            "|50 Tattoo Quotes ...|    6|\n",
            "+--------------------+-----+\n",
            "only showing top 20 rows\n",
            "\n",
            "The time spent is : 146.47906401900036\n"
          ]
        },
        {
          "name": "stderr",
          "output_type": "stream",
          "text": [
            "                                                                                \r"
          ]
        }
      ],
      "source": [
        "# following columns with errors.\n",
        "print(\"The start time is :\",starttime)\n",
        "for i in [\n",
        " 'description',\n",
        " 'is_image_or_video',\n",
        " 'poster_name',\n",
        " 'save_location',\n",
        " 'tag_list',\n",
        " 'title',\n",
        " ]:\n",
        "    df.groupBy(i).count().orderBy(\"count\", ascending=False).show()\n",
        "print(\"The time spent is :\", timeit.default_timer() - starttime)\n"
      ]
    },
    {
      "cell_type": "code",
      "execution_count": 12,
      "metadata": {
        "id": "69eUY8yZxyf_",
        "outputId": "2b5ffa2a-b5ac-426f-8666-3ce38936b4f9"
      },
      "outputs": [
        {
          "name": "stdout",
          "output_type": "stream",
          "text": [
            "The start time is : 19785.316717128\n"
          ]
        },
        {
          "name": "stderr",
          "output_type": "stream",
          "text": [
            "[Stage 121:====================================================>(623 + 8) / 633]\r"
          ]
        },
        {
          "name": "stdout",
          "output_type": "stream",
          "text": [
            "+--------------------+-----+\n",
            "|         description|count|\n",
            "+--------------------+-----+\n",
            "|                null| 1077|\n",
            "|Relationship Rule...|   40|\n",
            "|Our mission at K&...|   24|\n",
            "+--------------------+-----+\n",
            "only showing top 3 rows\n",
            "\n",
            "The time spent is : 155.81028705800054\n"
          ]
        },
        {
          "name": "stderr",
          "output_type": "stream",
          "text": [
            "                                                                                \r"
          ]
        }
      ],
      "source": [
        "# replace error value or empty value with None\n",
        "print(\"The start time is :\",starttime)\n",
        "df = df.replace({'No description available Story format': None}, subset = ['description'])\\\n",
        "       .replace({'No description available': None}, subset = ['description'])\n",
        "\n",
        "df.groupBy('description').count().orderBy(\"count\", ascending=False).show(3)\n",
        "print(\"The time spent is :\", timeit.default_timer() - starttime)\n"
      ]
    },
    {
      "cell_type": "code",
      "execution_count": 13,
      "metadata": {
        "id": "VNiVt7jvxyf_",
        "outputId": "8ffd68b8-4ed7-4005-f478-423e3b63e964"
      },
      "outputs": [
        {
          "name": "stdout",
          "output_type": "stream",
          "text": [
            "The start time is : 19785.316717128\n"
          ]
        },
        {
          "name": "stderr",
          "output_type": "stream",
          "text": [
            "[Stage 127:====================================================>(631 + 2) / 633]\r"
          ]
        },
        {
          "name": "stdout",
          "output_type": "stream",
          "text": [
            "+----------------+-----+\n",
            "|     poster_name|count|\n",
            "+----------------+-----+\n",
            "|       YourTango|  244|\n",
            "|     Bored Panda|  140|\n",
            "|Our Mindful Life|   88|\n",
            "| User Info Error|   88|\n",
            "|         Walmart|   86|\n",
            "+----------------+-----+\n",
            "only showing top 5 rows\n",
            "\n",
            "The time spent is : 163.6753728799995\n"
          ]
        },
        {
          "name": "stderr",
          "output_type": "stream",
          "text": [
            "                                                                                \r"
          ]
        }
      ],
      "source": [
        "# display error values in 'poster_name' column\n",
        "print(\"The start time is :\",starttime)\n",
        "df.groupBy('poster_name').count().orderBy(\"count\", ascending=False).show(5)\n",
        "print(\"The time spent is :\", timeit.default_timer() - starttime)\n"
      ]
    },
    {
      "cell_type": "code",
      "execution_count": 14,
      "metadata": {
        "id": "JF3d2xNexyf_",
        "outputId": "ee074950-19dc-452b-c2b4-daae83c738fc"
      },
      "outputs": [
        {
          "name": "stdout",
          "output_type": "stream",
          "text": [
            "The start time is : 19785.316717128\n"
          ]
        },
        {
          "name": "stderr",
          "output_type": "stream",
          "text": [
            "[Stage 133:===================================================> (619 + 8) / 633]\r"
          ]
        },
        {
          "name": "stdout",
          "output_type": "stream",
          "text": [
            "+----------------+-----+\n",
            "|     poster_name|count|\n",
            "+----------------+-----+\n",
            "|       YourTango|  244|\n",
            "|     Bored Panda|  140|\n",
            "|            null|   88|\n",
            "|Our Mindful Life|   88|\n",
            "+----------------+-----+\n",
            "only showing top 4 rows\n",
            "\n",
            "The time spent is : 170.98469567400025\n"
          ]
        },
        {
          "name": "stderr",
          "output_type": "stream",
          "text": [
            "                                                                                \r"
          ]
        }
      ],
      "source": [
        "# replace error values \"User Info Error\" in column 'poster_name' with null\n",
        "print(\"The start time is :\",starttime)\n",
        "df = df.replace({'User Info Error': None}, subset = ['poster_name'])\n",
        "df.groupBy('poster_name').count().orderBy(\"count\", ascending=False).show(4)\n",
        "print(\"The time spent is :\", timeit.default_timer() - starttime)\n"
      ]
    },
    {
      "cell_type": "code",
      "execution_count": 15,
      "metadata": {
        "id": "7qiXmNYYxygA",
        "outputId": "d7ca97da-c4c0-4114-9e45-4ac2d9333dbc"
      },
      "outputs": [
        {
          "name": "stdout",
          "output_type": "stream",
          "text": [
            "The start time is : 19785.316717128\n"
          ]
        },
        {
          "name": "stderr",
          "output_type": "stream",
          "text": [
            "[Stage 139:===================================================> (614 + 8) / 633]\r"
          ]
        },
        {
          "name": "stdout",
          "output_type": "stream",
          "text": [
            "+--------------------+-----+\n",
            "|            tag_list|count|\n",
            "+--------------------+-----+\n",
            "|N,o, ,T,a,g,s, ,A...|  171|\n",
            "|Stop Motion,Hobbi...|    6|\n",
            "|Weekly Budget,Bud...|    3|\n",
            "|Love My Husband Q...|    2|\n",
            "|Preschool Christm...|    2|\n",
            "+--------------------+-----+\n",
            "only showing top 5 rows\n",
            "\n",
            "The time spent is : 178.5500242929993\n"
          ]
        },
        {
          "name": "stderr",
          "output_type": "stream",
          "text": [
            "                                                                                \r"
          ]
        }
      ],
      "source": [
        "# display error values in 'tag_list' column\n",
        "print(\"The start time is :\",starttime)\n",
        "df.groupBy('tag_list').count().orderBy(\"count\", ascending=False).show(5)\n",
        "print(\"The time spent is :\", timeit.default_timer() - starttime)\n"
      ]
    },
    {
      "cell_type": "code",
      "execution_count": 16,
      "metadata": {
        "id": "kSZuQCZfxygA",
        "outputId": "3f5a37bd-e105-448d-e300-84ea2d072167"
      },
      "outputs": [
        {
          "name": "stdout",
          "output_type": "stream",
          "text": [
            "The start time is : 19785.316717128\n"
          ]
        },
        {
          "name": "stderr",
          "output_type": "stream",
          "text": [
            "                                                                                \r"
          ]
        },
        {
          "name": "stdout",
          "output_type": "stream",
          "text": [
            "N,o, ,T,a,g,s, ,A,v,a,i,l,a,b,l,e\n",
            "The time spent is : 188.3994297019999\n"
          ]
        }
      ],
      "source": [
        "# get error value in tag_list\n",
        "print(\"The start time is :\",starttime)\n",
        "tag = df.groupBy('tag_list').count().orderBy(\"count\", ascending=False)\n",
        "print(tag.collect()[0][0])\n",
        "print(\"The time spent is :\", timeit.default_timer() - starttime)\n"
      ]
    },
    {
      "cell_type": "code",
      "execution_count": 17,
      "metadata": {
        "id": "Y75s90tjxygA",
        "outputId": "af37dea3-2233-476d-f02f-6eaf57e40dbf"
      },
      "outputs": [
        {
          "name": "stdout",
          "output_type": "stream",
          "text": [
            "The start time is : 19785.316717128\n"
          ]
        },
        {
          "name": "stderr",
          "output_type": "stream",
          "text": [
            "[Stage 158:===================================================> (621 + 8) / 633]\r"
          ]
        },
        {
          "name": "stdout",
          "output_type": "stream",
          "text": [
            "+--------------------+-----+\n",
            "|            tag_list|count|\n",
            "+--------------------+-----+\n",
            "|                null|  171|\n",
            "|Stop Motion,Hobbi...|    6|\n",
            "|Weekly Budget,Bud...|    3|\n",
            "|Love My Husband Q...|    2|\n",
            "+--------------------+-----+\n",
            "only showing top 4 rows\n",
            "\n",
            "The time spent is : 197.63270826200096\n"
          ]
        },
        {
          "name": "stderr",
          "output_type": "stream",
          "text": [
            "                                                                                \r"
          ]
        }
      ],
      "source": [
        "# replace error values with null\n",
        "print(\"The start time is :\",starttime)\n",
        "df = df.replace({'N,o, ,T,a,g,s, ,A,v,a,i,l,a,b,l,e': None}, subset = ['tag_list'])\n",
        "# display tag list values after remove error values\n",
        "df.groupBy('tag_list').count().orderBy(\"count\", ascending=False).show(4)\n",
        "print(\"The time spent is :\", timeit.default_timer() - starttime)\n"
      ]
    },
    {
      "cell_type": "code",
      "execution_count": 18,
      "metadata": {
        "id": "mwVqtInaxygA",
        "outputId": "fb98054b-3b21-4fce-9d83-4652e338bdf7"
      },
      "outputs": [
        {
          "name": "stdout",
          "output_type": "stream",
          "text": [
            "The start time is : 19785.316717128\n"
          ]
        },
        {
          "name": "stderr",
          "output_type": "stream",
          "text": [
            "[Stage 164:===================================================> (620 + 8) / 633]\r"
          ]
        },
        {
          "name": "stdout",
          "output_type": "stream",
          "text": [
            "+--------------------+-----+\n",
            "|               title|count|\n",
            "+--------------------+-----+\n",
            "|No Title Data Ava...|   88|\n",
            "|  Relationship Rules|   17|\n",
            "|Top Apps for Even...|   14|\n",
            "|DIY Abstract Hear...|   12|\n",
            "|18 Daily Motivati...|   10|\n",
            "+--------------------+-----+\n",
            "only showing top 5 rows\n",
            "\n",
            "The time spent is : 205.35657458599962\n"
          ]
        },
        {
          "name": "stderr",
          "output_type": "stream",
          "text": [
            "                                                                                \r"
          ]
        }
      ],
      "source": [
        "# display error values in 'title' column\n",
        "print(\"The start time is :\",starttime)\n",
        "df.groupBy('title').count().orderBy(\"count\", ascending=False).show(5)\n",
        "print(\"The time spent is :\", timeit.default_timer() - starttime)\n"
      ]
    },
    {
      "cell_type": "code",
      "execution_count": 19,
      "metadata": {
        "id": "LylWZgF7xygA",
        "outputId": "a71fd7de-316d-44dd-c331-105974b0f71d"
      },
      "outputs": [
        {
          "name": "stdout",
          "output_type": "stream",
          "text": [
            "The start time is : 19785.316717128\n"
          ]
        },
        {
          "name": "stderr",
          "output_type": "stream",
          "text": [
            "[Stage 170:====================================================>(624 + 8) / 633]\r"
          ]
        },
        {
          "name": "stdout",
          "output_type": "stream",
          "text": [
            "No Title Data Available\n",
            "The time spent is : 214.15646095899865\n"
          ]
        },
        {
          "name": "stderr",
          "output_type": "stream",
          "text": [
            "                                                                                \r"
          ]
        }
      ],
      "source": [
        "# get error value in title column\n",
        "print(\"The start time is :\",starttime)\n",
        "tag = df.groupBy('title').count().orderBy(\"count\", ascending=False)\n",
        "print(tag.collect()[0][0])\n",
        "print(\"The time spent is :\", timeit.default_timer() - starttime)\n"
      ]
    },
    {
      "cell_type": "code",
      "execution_count": 20,
      "metadata": {
        "id": "5ZbwCzo5xygB",
        "outputId": "7f8fe972-0f5a-4a41-aa61-1ff21094b51f"
      },
      "outputs": [
        {
          "name": "stdout",
          "output_type": "stream",
          "text": [
            "The start time is : 19785.316717128\n"
          ]
        },
        {
          "name": "stderr",
          "output_type": "stream",
          "text": [
            "[Stage 183:====================================================>(631 + 2) / 633]\r"
          ]
        },
        {
          "name": "stdout",
          "output_type": "stream",
          "text": [
            "+--------------------+-----+\n",
            "|               title|count|\n",
            "+--------------------+-----+\n",
            "|                null|   88|\n",
            "|  Relationship Rules|   17|\n",
            "|Top Apps for Even...|   14|\n",
            "|DIY Abstract Hear...|   12|\n",
            "+--------------------+-----+\n",
            "only showing top 4 rows\n",
            "\n",
            "The time spent is : 222.5112628800016\n"
          ]
        },
        {
          "name": "stderr",
          "output_type": "stream",
          "text": [
            "                                                                                \r"
          ]
        }
      ],
      "source": [
        "# replace error value with null\n",
        "print(\"The start time is :\",starttime)\n",
        "df = df.replace({'No Title Data Available': None}, subset = ['title'])\n",
        "df.groupBy('title').count().orderBy(\"count\", ascending=False).show(4)\n",
        "print(\"The time spent is :\", timeit.default_timer() - starttime)\n"
      ]
    },
    {
      "cell_type": "code",
      "execution_count": 21,
      "metadata": {
        "id": "7Qv-HKA_xygB",
        "outputId": "52a2b8ac-7563-42cb-db0a-1ea0a5a9cd6b"
      },
      "outputs": [
        {
          "name": "stdout",
          "output_type": "stream",
          "text": [
            "The start time is : 19785.316717128\n"
          ]
        },
        {
          "name": "stderr",
          "output_type": "stream",
          "text": [
            "[Stage 189:===================================================> (614 + 8) / 633]\r"
          ]
        },
        {
          "name": "stdout",
          "output_type": "stream",
          "text": [
            "+--------------------+-----+\n",
            "|       save_location|count|\n",
            "+--------------------+-----+\n",
            "|Local save in /da...|  999|\n",
            "|Local save in /da...|  970|\n",
            "|Local save in /da...|  910|\n",
            "|Local save in /da...|  892|\n",
            "|Local save in /da...|  863|\n",
            "|Local save in /da...|  861|\n",
            "|Local save in /da...|  859|\n",
            "|Local save in /da...|  852|\n",
            "|Local save in /da...|  838|\n",
            "|Local save in /da...|  830|\n",
            "|Local save in /da...|  786|\n",
            "|Local save in /da...|  748|\n",
            "|Local save in /da...|  746|\n",
            "+--------------------+-----+\n",
            "\n",
            "The time spent is : 229.30968092799958\n"
          ]
        },
        {
          "name": "stderr",
          "output_type": "stream",
          "text": [
            "                                                                                \r"
          ]
        }
      ],
      "source": [
        "# display error value in save_location column\n",
        "print(\"The start time is :\",starttime)\n",
        "df.groupBy('save_location').count().orderBy(\"count\", ascending=False).show(50)\n",
        "print(\"The time spent is :\", timeit.default_timer() - starttime)\n",
        "\n"
      ]
    },
    {
      "cell_type": "code",
      "execution_count": 22,
      "metadata": {
        "id": "t81b6o_5xygB",
        "outputId": "b8560dcb-754e-4c25-bf30-deda01309e7d"
      },
      "outputs": [
        {
          "name": "stdout",
          "output_type": "stream",
          "text": [
            "The start time is : 19785.316717128\n"
          ]
        },
        {
          "name": "stderr",
          "output_type": "stream",
          "text": [
            "[Stage 195:===================================================> (610 + 8) / 633]\r"
          ]
        },
        {
          "name": "stdout",
          "output_type": "stream",
          "text": [
            "Local save in /data/christmas\n",
            "The time spent is : 236.12930186700032\n"
          ]
        },
        {
          "name": "stderr",
          "output_type": "stream",
          "text": [
            "                                                                                \r"
          ]
        }
      ],
      "source": [
        "# get example of error value in save_location column\n",
        "print(\"The start time is :\",starttime)\n",
        "location_column = df.groupBy('save_location').count().orderBy(\"count\", ascending=False)\n",
        "print(location_column.collect()[0][0])\n",
        "print(\"The time spent is :\", timeit.default_timer() - starttime)\n"
      ]
    },
    {
      "cell_type": "code",
      "execution_count": 23,
      "metadata": {
        "id": "WW9dufj6xygB",
        "outputId": "f8e22209-48fb-489f-bfd8-7c28225ca859"
      },
      "outputs": [
        {
          "name": "stdout",
          "output_type": "stream",
          "text": [
            "The start time is : 19785.316717128\n"
          ]
        },
        {
          "name": "stderr",
          "output_type": "stream",
          "text": [
            "[Stage 208:=====================================================(633 + 0) / 633]\r"
          ]
        },
        {
          "name": "stdout",
          "output_type": "stream",
          "text": [
            "+--------------------+-----+\n",
            "|       save_location|count|\n",
            "+--------------------+-----+\n",
            "|     /data/christmas|  999|\n",
            "|       /data/tattoos|  970|\n",
            "|        /data/quotes|  910|\n",
            "|           /data/art|  892|\n",
            "|     /data/education|  863|\n",
            "|    /data/home-decor|  861|\n",
            "|        /data/travel|  859|\n",
            "|  /data/mens-fashion|  852|\n",
            "|      /data/vehicles|  838|\n",
            "|/data/diy-and-crafts|  830|\n",
            "|       /data/finance|  786|\n",
            "|/data/event-planning|  748|\n",
            "|        /data/beauty|  746|\n",
            "+--------------------+-----+\n",
            "\n",
            "The time spent is : 245.30185736299973\n"
          ]
        },
        {
          "name": "stderr",
          "output_type": "stream",
          "text": [
            "                                                                                \r"
          ]
        }
      ],
      "source": [
        "# replace/remove error part of the values \n",
        "print(\"The start time is :\",starttime)\n",
        "df = df.withColumn('save_location', regexp_replace('save_location', 'Local save in ', '')) \n",
        "df.groupBy('save_location').count().orderBy(\"count\", ascending=False).show()\n",
        "print(\"The time spent is :\", timeit.default_timer() - starttime)\n"
      ]
    },
    {
      "cell_type": "code",
      "execution_count": 24,
      "metadata": {
        "id": "eqd9C6UWxygB",
        "outputId": "d2fdf4e4-7ea4-4884-adb3-176b0280a431"
      },
      "outputs": [
        {
          "name": "stdout",
          "output_type": "stream",
          "text": [
            "The start time is : 19785.316717128\n"
          ]
        },
        {
          "name": "stderr",
          "output_type": "stream",
          "text": [
            "[Stage 214:===================================================> (617 + 8) / 633]\r"
          ]
        },
        {
          "name": "stdout",
          "output_type": "stream",
          "text": [
            "+--------------------+-----+\n",
            "|           image_src|count|\n",
            "+--------------------+-----+\n",
            "|    Image src error.|  323|\n",
            "|                null|    7|\n",
            "|https://i.pinimg....|    2|\n",
            "|https://i.pinimg....|    2|\n",
            "+--------------------+-----+\n",
            "only showing top 4 rows\n",
            "\n",
            "The time spent is : 256.0605765469991\n"
          ]
        },
        {
          "name": "stderr",
          "output_type": "stream",
          "text": [
            "                                                                                \r"
          ]
        }
      ],
      "source": [
        "# display error and null value\n",
        "print(\"The start time is :\",starttime)\n",
        "df.groupBy('image_src').count().orderBy(\"count\", ascending=False).show(4)\n",
        "print(\"The time spent is :\", timeit.default_timer() - starttime)\n"
      ]
    },
    {
      "cell_type": "code",
      "execution_count": 25,
      "metadata": {
        "id": "C9UmLhfVxygB",
        "outputId": "278d0cdb-7a62-40df-df11-6480189f71b3"
      },
      "outputs": [
        {
          "name": "stdout",
          "output_type": "stream",
          "text": [
            "The start time is : 19785.316717128\n"
          ]
        },
        {
          "name": "stderr",
          "output_type": "stream",
          "text": [
            "[Stage 220:====================================================>(628 + 5) / 633]\r"
          ]
        },
        {
          "name": "stdout",
          "output_type": "stream",
          "text": [
            "+--------------------+-----+\n",
            "|           image_src|count|\n",
            "+--------------------+-----+\n",
            "|                null|  330|\n",
            "|https://i.pinimg....|    2|\n",
            "|https://i.pinimg....|    2|\n",
            "|https://i.pinimg....|    2|\n",
            "+--------------------+-----+\n",
            "only showing top 4 rows\n",
            "\n",
            "The time spent is : 264.08887307999976\n"
          ]
        },
        {
          "name": "stderr",
          "output_type": "stream",
          "text": [
            "                                                                                \r"
          ]
        }
      ],
      "source": [
        "# replace error values with null\n",
        "print(\"The start time is :\",starttime)\n",
        "df = df.replace({'Image src error.': None}, subset = ['image_src'])\n",
        "# display image_src values\n",
        "df.groupBy('image_src').count().orderBy(\"count\", ascending=False).show(4)\n",
        "print(\"The time spent is :\", timeit.default_timer() - starttime)\n",
        "\n"
      ]
    },
    {
      "cell_type": "code",
      "execution_count": 26,
      "metadata": {
        "id": "ZgmSA9VIxygC",
        "outputId": "b15e74d3-ef2d-4a20-dfac-c1211780f43b"
      },
      "outputs": [
        {
          "name": "stdout",
          "output_type": "stream",
          "text": [
            "The start time is : 19785.316717128\n"
          ]
        },
        {
          "name": "stderr",
          "output_type": "stream",
          "text": [
            "[Stage 226:====================================================>(626 + 7) / 633]\r"
          ]
        },
        {
          "name": "stdout",
          "output_type": "stream",
          "text": [
            "+--------------------+-----+\n",
            "|           image_src|count|\n",
            "+--------------------+-----+\n",
            "|                null|  330|\n",
            "|https://i.pinimg....|    2|\n",
            "|https://i.pinimg....|    2|\n",
            "|https://i.pinimg....|    2|\n",
            "|https://i.pinimg....|    2|\n",
            "+--------------------+-----+\n",
            "only showing top 5 rows\n",
            "\n",
            "The time spent is : 272.36532181800067\n"
          ]
        },
        {
          "name": "stderr",
          "output_type": "stream",
          "text": [
            "                                                                                \r"
          ]
        }
      ],
      "source": [
        "# drop the rows with null values in 'image_src' column, as we don't want a row without a pin\n",
        "print(\"The start time is :\",starttime)\n",
        "df.groupBy('image_src').count().orderBy(\"count\", ascending=False).show(5)\n",
        "print(\"The time spent is :\", timeit.default_timer() - starttime)\n",
        "df = df.na.drop(subset=[\"image_src\"])\n",
        "# display image_src values after removing nul values\n",
        "\n"
      ]
    },
    {
      "cell_type": "code",
      "execution_count": 27,
      "metadata": {},
      "outputs": [
        {
          "name": "stdout",
          "output_type": "stream",
          "text": [
            "The start time is : 19785.316717128\n"
          ]
        },
        {
          "name": "stderr",
          "output_type": "stream",
          "text": [
            "[Stage 232:====================================================>(623 + 8) / 633]\r"
          ]
        },
        {
          "name": "stdout",
          "output_type": "stream",
          "text": [
            "+--------------+-----+\n",
            "|follower_count|count|\n",
            "+--------------+-----+\n",
            "|            2M|  374|\n",
            "|            2k|  325|\n",
            "|            4k|  250|\n",
            "|          942k|  244|\n",
            "|            5k|  232|\n",
            "|            7k|  227|\n",
            "|            1k|  219|\n",
            "|            3k|  219|\n",
            "|            5M|  215|\n",
            "|            1M|  178|\n",
            "|            6k|  172|\n",
            "|            9k|  141|\n",
            "|            8k|  126|\n",
            "|           28k|  115|\n",
            "|           10k|  113|\n",
            "|           20k|   99|\n",
            "|           19k|   93|\n",
            "|          190k|   90|\n",
            "|           13k|   90|\n",
            "|           11k|   88|\n",
            "+--------------+-----+\n",
            "only showing top 20 rows\n",
            "\n",
            "The time spent is : 282.495029144\n"
          ]
        },
        {
          "name": "stderr",
          "output_type": "stream",
          "text": [
            "                                                                                \r"
          ]
        }
      ],
      "source": [
        "# check errors in column\n",
        "print(\"The start time is :\",starttime)\n",
        "df.groupBy('follower_count').count().orderBy(\"count\", ascending=False).show()\n",
        "print(\"The time spent is :\", timeit.default_timer() - starttime)\n"
      ]
    },
    {
      "cell_type": "code",
      "execution_count": 28,
      "metadata": {},
      "outputs": [
        {
          "name": "stdout",
          "output_type": "stream",
          "text": [
            "The start time is : 19785.316717128\n"
          ]
        },
        {
          "name": "stderr",
          "output_type": "stream",
          "text": [
            "                                                                                \r"
          ]
        },
        {
          "name": "stdout",
          "output_type": "stream",
          "text": [
            "number of character is:  9001\n",
            "{'n', 's', 'r', ' ', 'f', 'U', 'k', 'E', 'o', 'I', 'M', 'e'}\n",
            "The time spent is : 292.55941720600094\n"
          ]
        }
      ],
      "source": [
        "# create a pandas dataframe which run much faster\n",
        "print(\"The start time is :\",starttime)\n",
        "pddf = df.toPandas()\n",
        "# check if there is any characters in the follower_count column\n",
        "a = []\n",
        "for i in pddf['follower_count'].to_list():\n",
        "    if i is not None:\n",
        "        for char in i:\n",
        "            if  not char.isdigit():\n",
        "                a.append(char)\n",
        "print(\"number of character is: \", len(a))\n",
        "print(set(a))      \n",
        "print(\"The time spent is :\", timeit.default_timer() - starttime)\n"
      ]
    },
    {
      "cell_type": "code",
      "execution_count": 29,
      "metadata": {},
      "outputs": [
        {
          "name": "stdout",
          "output_type": "stream",
          "text": [
            "The start time is : 19785.316717128\n",
            "User Info Error\n",
            "The time spent is : 292.628748471001\n"
          ]
        }
      ],
      "source": [
        "# check each character \n",
        "print(\"The start time is :\",starttime)\n",
        "for i in pddf['follower_count'].to_list():\n",
        "    if 'E' in i:\n",
        "        print(i)\n",
        "print(\"The time spent is :\", timeit.default_timer() - starttime)\n"
      ]
    },
    {
      "cell_type": "code",
      "execution_count": 30,
      "metadata": {},
      "outputs": [
        {
          "name": "stdout",
          "output_type": "stream",
          "text": [
            "The start time is : 19785.316717128\n",
            "The time spent is : 292.74224410399984\n"
          ]
        }
      ],
      "source": [
        "# replace 'User Info Error' with 0\n",
        "print(\"The start time is :\",starttime)\n",
        "df = df.replace({'User Info Error': \"0\"}, subset = ['follower_count'])\n",
        "print(\"The time spent is :\", timeit.default_timer() - starttime)\n"
      ]
    },
    {
      "cell_type": "code",
      "execution_count": 31,
      "metadata": {},
      "outputs": [
        {
          "name": "stdout",
          "output_type": "stream",
          "text": [
            "The start time is : 19785.316717128\n"
          ]
        },
        {
          "name": "stderr",
          "output_type": "stream",
          "text": [
            "                                                                                \r"
          ]
        },
        {
          "name": "stdout",
          "output_type": "stream",
          "text": [
            "number of 'M' or 'k' is:  8986\n",
            "{'k', 'M'}\n",
            "The time spent is : 300.9085890319984\n"
          ]
        }
      ],
      "source": [
        "# check it again if there is any characters in the follower_count column\n",
        "print(\"The start time is :\",starttime)\n",
        "pddf = df.toPandas()\n",
        "a = []\n",
        "for i in pddf['follower_count'].to_list():\n",
        "    if i is not None:\n",
        "        for char in i:\n",
        "            if  not char.isdigit():\n",
        "                a.append(char)\n",
        "print(\"number of 'M' or 'k' is: \", len(a))\n",
        "print(set(a))  \n",
        "print(\"The time spent is :\", timeit.default_timer() - starttime)\n"
      ]
    },
    {
      "cell_type": "code",
      "execution_count": 32,
      "metadata": {},
      "outputs": [
        {
          "name": "stdout",
          "output_type": "stream",
          "text": [
            "The start time is : 19785.316717128\n",
            "The time spent is : 301.0769321730004\n"
          ]
        }
      ],
      "source": [
        "# replaced 'M', 'k' by '000000' and '000'\n",
        "print(\"The start time is :\",starttime)\n",
        "df = df.withColumn('follower_count', \n",
        "    when(df.follower_count.endswith('M'),regexp_replace(df.follower_count,'M','000000')) \\\n",
        "   .when(df.follower_count.endswith('k'),regexp_replace(df.follower_count,'k','000')) \\\n",
        "   .otherwise(df.follower_count)) \n",
        "print(\"The time spent is :\", timeit.default_timer() - starttime)\n",
        "\n"
      ]
    },
    {
      "cell_type": "code",
      "execution_count": 33,
      "metadata": {},
      "outputs": [
        {
          "name": "stdout",
          "output_type": "stream",
          "text": [
            "The start time is : 19785.316717128\n"
          ]
        },
        {
          "name": "stderr",
          "output_type": "stream",
          "text": [
            "[Stage 244:===================================================> (611 + 8) / 633]\r"
          ]
        },
        {
          "name": "stdout",
          "output_type": "stream",
          "text": [
            "+--------------+-----+\n",
            "|follower_count|count|\n",
            "+--------------+-----+\n",
            "|       2000000|  374|\n",
            "|          2000|  325|\n",
            "|          4000|  250|\n",
            "|        942000|  244|\n",
            "|          5000|  232|\n",
            "|          7000|  227|\n",
            "|          3000|  219|\n",
            "|          1000|  219|\n",
            "|       5000000|  215|\n",
            "|       1000000|  178|\n",
            "|          6000|  172|\n",
            "|          9000|  141|\n",
            "|          8000|  126|\n",
            "|         28000|  115|\n",
            "|         10000|  113|\n",
            "|         20000|   99|\n",
            "|         19000|   93|\n",
            "|         13000|   90|\n",
            "|        190000|   90|\n",
            "|         11000|   88|\n",
            "+--------------+-----+\n",
            "only showing top 20 rows\n",
            "\n",
            "The time spent is : 308.90140081700156\n"
          ]
        },
        {
          "name": "stderr",
          "output_type": "stream",
          "text": [
            "                                                                                \r"
          ]
        }
      ],
      "source": [
        "# check it again\n",
        "print(\"The start time is :\",starttime)\n",
        "df.groupBy('follower_count').count().orderBy(\"count\", ascending=False).show()\n",
        "print(\"The time spent is :\", timeit.default_timer() - starttime)\n"
      ]
    },
    {
      "cell_type": "code",
      "execution_count": 34,
      "metadata": {},
      "outputs": [
        {
          "name": "stdout",
          "output_type": "stream",
          "text": [
            "The start time is : 19785.316717128\n"
          ]
        },
        {
          "name": "stderr",
          "output_type": "stream",
          "text": [
            "[Stage 250:====================================================>(623 + 8) / 633]\r"
          ]
        },
        {
          "name": "stdout",
          "output_type": "stream",
          "text": [
            "+----------+--------------------+----------+--------------+--------------------+-----+-----------------+--------------------+----------------+--------------------+---------------------+--------------------+\n",
            "|  category|         description|downloaded|follower_count|           image_src|index|is_image_or_video|         poster_name|   save_location|            tag_list|                title|           unique_id|\n",
            "+----------+--------------------+----------+--------------+--------------------+-----+-----------------+--------------------+----------------+--------------------+---------------------+--------------------+\n",
            "|   tattoos|Elmira Kruger sha...|         1|           848|https://i.pinimg....| 8822|            image|       Alicia Keller|   /data/tattoos|Arm Sleeve Tattoo...| Elmira Kruger on ...|db80a4e4-293a-45c...|\n",
            "|home-decor|И хоть у шведов л...|         1|        136000|https://i.pinimg....| 6447|            image|PUFIK Interiors &...|/data/home-decor|Cheap Home Decor,...|〚 Warm natural to...|d3039535-5767-426...|\n",
            "+----------+--------------------+----------+--------------+--------------------+-----+-----------------+--------------------+----------------+--------------------+---------------------+--------------------+\n",
            "only showing top 2 rows\n",
            "\n",
            "The time spent is : 316.39364314200066\n"
          ]
        },
        {
          "name": "stderr",
          "output_type": "stream",
          "text": [
            "                                                                                \r"
          ]
        }
      ],
      "source": [
        "# cast follower_count column type as int\n",
        "print(\"The start time is :\",starttime)\n",
        "import pyspark.sql.functions as F\n",
        "df = df.withColumn(\"follower_count\", F.col(\"follower_count\").cast(\"int\"))\n",
        "df.show(2)\n",
        "print(\"The time spent is :\", timeit.default_timer() - starttime)\n"
      ]
    },
    {
      "cell_type": "code",
      "execution_count": 35,
      "metadata": {},
      "outputs": [
        {
          "name": "stdout",
          "output_type": "stream",
          "text": [
            "The start time is : 19785.316717128\n",
            "The time spent is : 316.4588153699988\n"
          ]
        }
      ],
      "source": [
        "# cassandra not allow use index as a key name, change \"index\" to \"idx\"\n",
        "\n",
        "\n",
        "print(\"The start time is :\",starttime)\n",
        "df = df.withColumnRenamed('index', 'idx')\n",
        "\n",
        "print(\"The time spent is :\", timeit.default_timer() - starttime)\n"
      ]
    },
    {
      "cell_type": "code",
      "execution_count": 36,
      "metadata": {
        "id": "AhsdcEn_xygC"
      },
      "outputs": [
        {
          "name": "stdout",
          "output_type": "stream",
          "text": [
            "The start time is : 19785.316717128\n",
            "The time spent is : 316.5580150880014\n"
          ]
        }
      ],
      "source": [
        "# reorder selected columns\n",
        "print(\"The start time is :\",starttime)\n",
        "df = df.select('idx', 'title', 'poster_name', 'category', 'follower_count', 'description', 'image_src', 'is_image_or_video', 'tag_list', 'unique_id')\n",
        "print(\"The time spent is :\", timeit.default_timer() - starttime)\n"
      ]
    },
    {
      "cell_type": "code",
      "execution_count": 37,
      "metadata": {
        "id": "30z3jOoixygC"
      },
      "outputs": [
        {
          "name": "stdout",
          "output_type": "stream",
          "text": [
            "The start time is : 19785.316717128\n",
            "The time spent is : 316.62473346299885\n"
          ]
        }
      ],
      "source": [
        "# reorder dataset with acsending index\n",
        "print(\"The start time is :\",starttime)\n",
        "df = df.orderBy(\"idx\", ascending=True)\n",
        "\n",
        "print(\"The time spent is :\", timeit.default_timer() - starttime)\n"
      ]
    },
    {
      "cell_type": "code",
      "execution_count": 38,
      "metadata": {},
      "outputs": [],
      "source": [
        "# schema = StructType([\n",
        "#     StructField(\"index\",IntegerType(),True), \\\n",
        "#     StructField(\"title\",StringType(),True), \\\n",
        "#     StructField(\"poster_name\",StringType(),True), \\\n",
        "#     StructField(\"category\", StringType(), True), \\\n",
        "#     StructField(\"follower_count\", IntegerType(), True), \\\n",
        "#     StructField(\"description\", StringType(), True), \\\n",
        "#     StructField(\"downloaded\",IntegerType(),True), \\\n",
        "#     StructField(\"image_src\",StringType(),True), \\\n",
        "#     StructField(\"is_image_or_video\", StringType(), True), \\\n",
        "#     StructField(\"save_location\", StringType(), True), \\\n",
        "#     StructField(\"tag_list\", StringType(), True),  \\\n",
        "#     StructField(\"unique_id\",StringType(),True), \\\n",
        "#         ])\n",
        "# df = spark.createDataFrame(data=df.collect(),schema=schema)"
      ]
    },
    {
      "cell_type": "markdown",
      "metadata": {
        "id": "DLp6AJ1kxygD"
      },
      "source": [
        "### Send data to Cassandra"
      ]
    },
    {
      "cell_type": "code",
      "execution_count": 39,
      "metadata": {},
      "outputs": [],
      "source": [
        "# initialise cassandra driver\n",
        "cluster = Cluster()\n",
        "session = cluster.connect()"
      ]
    },
    {
      "cell_type": "code",
      "execution_count": null,
      "metadata": {},
      "outputs": [],
      "source": [
        "# create a cassandra keyspace\n",
        "session.execute(\"CREATE KEYSPACE pinterest_project WITH replication = {'class':'SimpleStrategy', 'replication_factor' : 3};\")"
      ]
    },
    {
      "cell_type": "code",
      "execution_count": 41,
      "metadata": {},
      "outputs": [],
      "source": [
        "# initialise named cassandra key space\n",
        "try:\n",
        "    session.execute(\"USE pinterest_project;\")\n",
        "except:\n",
        "    pass"
      ]
    },
    {
      "cell_type": "code",
      "execution_count": 42,
      "metadata": {},
      "outputs": [],
      "source": [
        "try:\n",
        "    session.execute(\"DROP TABLE pinterest\")\n",
        "except:\n",
        "    pass"
      ]
    },
    {
      "cell_type": "code",
      "execution_count": 43,
      "metadata": {},
      "outputs": [
        {
          "data": {
            "text/plain": [
              "<cassandra.cluster.ResultSet at 0x7f6828baacd0>"
            ]
          },
          "execution_count": 43,
          "metadata": {},
          "output_type": "execute_result"
        }
      ],
      "source": [
        "session.execute(\"CREATE TABLE pinterest(idx int PRIMARY KEY, title text, poster_name text, category text, follower_count int, description text, image_src text, is_image_or_video text, tag_list text, unique_id text);\")\n"
      ]
    },
    {
      "cell_type": "code",
      "execution_count": 44,
      "metadata": {},
      "outputs": [
        {
          "name": "stdout",
          "output_type": "stream",
          "text": [
            "The start time is : 19785.316717128\n"
          ]
        },
        {
          "name": "stderr",
          "output_type": "stream",
          "text": [
            "                                                                                \r"
          ]
        },
        {
          "name": "stdout",
          "output_type": "stream",
          "text": [
            "The time spent is : 367.31381211199914\n"
          ]
        }
      ],
      "source": [
        "# make preparedUpdate statements\n",
        "print(\"The start time is :\",starttime)\n",
        "preparedUpdate = session.prepare(\n",
        "    \"\"\" \n",
        "    INSERT INTO pinterest (idx, title, poster_name, category, follower_count, description, image_src, is_image_or_video, tag_list, unique_id) VALUES(?, ?, ?, ?, ?, ?, ?, ?, ?, ?);\n",
        "    \"\"\"\n",
        ")\n",
        "\n",
        "\n",
        "# write df to cassandra\n",
        "for item in df.collect():\n",
        "    session.execute(preparedUpdate, [item[0], item[1], item[2], item[3], item[4], item[5], item[6], item[7], item[8], item[9]])\n",
        "\n",
        "print(\"The time spent is :\", timeit.default_timer() - starttime)\n",
        "\n"
      ]
    },
    {
      "cell_type": "code",
      "execution_count": 45,
      "metadata": {},
      "outputs": [],
      "source": [
        "# Read pinterest table in cassandra\n",
        "results = session.execute(\"SELECT * FROM pinterest\")"
      ]
    },
    {
      "cell_type": "code",
      "execution_count": 46,
      "metadata": {},
      "outputs": [
        {
          "name": "stderr",
          "output_type": "stream",
          "text": [
            "/tmp/ipykernel_207893/3363985775.py:3: DeprecationWarning: ResultSet indexing support will be removed in 4.0. Consider using ResultSet.one() to get a single row.\n",
            "  print(results[0])\n"
          ]
        },
        {
          "name": "stdout",
          "output_type": "stream",
          "text": [
            "Row(idx=4317, category='education', description='Women in the Modern World : Annals of the American Academy of Political and Social Science, V143, May, 1929', follower_count=2000000, image_src='https://i.pinimg.com/originals/d9/85/5e/d9855ea66daf142e7a8e8d3671dfe1af.jpg', is_image_or_video='image', poster_name='Walmart', tag_list='Way Of Life,The Life,Inspiring Meaning,John Calvin,Battle Of Waterloo,National Convention,Move Mountains,Public Speaking,Human Nature', title='Women in the Modern World: Annals of the American Academy of Political and Social Science, V143, May, 1929 (Paperback) - Walmart.com', unique_id='ebce1b3d-149c-498d-bef6-e5538dc4d341')\n"
          ]
        }
      ],
      "source": [
        "# check if table in cassandra has read\n",
        "# print first row of the table\n",
        "print(results[0])"
      ]
    },
    {
      "cell_type": "code",
      "execution_count": 47,
      "metadata": {},
      "outputs": [],
      "source": [
        "# shutdown cassandra session and cluster\n",
        "\n",
        "session.cluster.shutdown()\n",
        "session.shutdown()"
      ]
    },
    {
      "cell_type": "code",
      "execution_count": 48,
      "metadata": {},
      "outputs": [],
      "source": [
        "# stop spark\n",
        "spark.stop()"
      ]
    },
    {
      "cell_type": "code",
      "execution_count": null,
      "metadata": {},
      "outputs": [],
      "source": []
    },
    {
      "cell_type": "code",
      "execution_count": null,
      "metadata": {},
      "outputs": [],
      "source": []
    },
    {
      "cell_type": "code",
      "execution_count": null,
      "metadata": {},
      "outputs": [],
      "source": []
    }
  ],
  "metadata": {
    "colab": {
      "provenance": []
    },
    "kernelspec": {
      "display_name": "pin_app",
      "language": "python",
      "name": "python3"
    },
    "language_info": {
      "codemirror_mode": {
        "name": "ipython",
        "version": 3
      },
      "file_extension": ".py",
      "mimetype": "text/x-python",
      "name": "python",
      "nbconvert_exporter": "python",
      "pygments_lexer": "ipython3",
      "version": "3.8.10"
    },
    "orig_nbformat": 4,
    "vscode": {
      "interpreter": {
        "hash": "aa3c2183eefee0441b9afc282fff2c45f91aae1bdb1609dae94dd7f981e781ca"
      }
    }
  },
  "nbformat": 4,
  "nbformat_minor": 0
}
