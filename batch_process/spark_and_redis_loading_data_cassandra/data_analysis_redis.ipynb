{
  "cells": [
    {
      "attachments": {},
      "cell_type": "markdown",
      "metadata": {
        "id": "I1dG6KsFxyfz"
      },
      "source": [
        "# Pinterest ETL pipeline (spark with redis)"
      ]
    },
    {
      "cell_type": "markdown",
      "metadata": {
        "id": "Y2ROtZx0xyf2"
      },
      "source": [
        "### Import packages"
      ]
    },
    {
      "cell_type": "code",
      "execution_count": 1,
      "metadata": {
        "id": "QEnWfq7Qxyf2"
      },
      "outputs": [],
      "source": [
        "import findspark\n",
        "findspark.init()\n",
        "import pyspark\n",
        "from pyspark.sql.types import StructType,StructField, StringType, IntegerType\n",
        "from cassandra.cluster import Cluster\n",
        "import multiprocessing\n",
        "from pyspark.sql import SparkSession\n",
        "from pyspark import SparkConf\n",
        "from pyspark.sql.functions import when, regexp_replace, regexp_extract, col\n",
        "import pyspark.sql.functions as F\n",
        "import requests\n",
        "from time import sleep\n",
        "import random\n",
        "from multiprocessing import Process\n",
        "import boto3\n",
        "import json\n",
        "import sqlalchemy\n",
        "import uuid\n",
        "import os \n",
        "import timeit"
      ]
    },
    {
      "cell_type": "markdown",
      "metadata": {
        "id": "6xqDfo1pxyf4"
      },
      "source": [
        "### Loading data from source"
      ]
    },
    {
      "cell_type": "code",
      "execution_count": null,
      "metadata": {
        "id": "B7xxmu0Pxyf4"
      },
      "outputs": [],
      "source": [
        "class AWSDBConnector:\n",
        "\n",
        "    def __init__(self):\n",
        "\n",
        "        self.HOST = \"pinterestdbreadonly.cq2e8zno855e.eu-west-1.rds.amazonaws.com\"\n",
        "        self.USER = 'project_user'\n",
        "        self.PASSWORD = <password>\n",
        "        self.DATABASE = 'pinterest_data'\n",
        "        self.PORT = 3306\n",
        "        \n",
        "    def create_db_connector(self):\n",
        "        engine = sqlalchemy.create_engine(f\"mysql+pymysql://{self.USER}:{self.PASSWORD}@{self.HOST}:{self.PORT}/{self.DATABASE}?charset=utf8mb4\")\n",
        "        return engine\n",
        "\n",
        "\n",
        "new_connector = AWSDBConnector()\n",
        "engine = new_connector.create_db_connector()"
      ]
    },
    {
      "cell_type": "code",
      "execution_count": null,
      "metadata": {
        "id": "63ZwxnWCxyf5",
        "outputId": "e0ccb260-3199-470c-ff83-1ec869e0639f"
      },
      "outputs": [],
      "source": [
        "# create uuid for unique file names\n",
        "id = uuid.uuid4()\n",
        "str(id)"
      ]
    },
    {
      "cell_type": "code",
      "execution_count": null,
      "metadata": {
        "id": "tC-oZNVbxyf6"
      },
      "outputs": [],
      "source": [
        "# save json file to designated location\n",
        "n=0\n",
        "while True:\n",
        "\n",
        "    \n",
        "    selected_row = engine.execute(f\"SELECT * FROM pinterest_data LIMIT {n}, 1\")\n",
        "    for row in selected_row:\n",
        "        result = dict(row)\n",
        "    n+=1\n",
        "    file_name = str(id) + \"_\" + str(n)+ \".\" + \"json\"\n",
        "    path_to_the_file = '/Users/tanyali/Documents/practice/data/' + file_name\n",
        "    file = json.dumps(result)\n",
        "    with open(path_to_the_file, 'w') as outfile:\n",
        "        outfile.write(file)\n",
        "    # print(result)"
      ]
    },
    {
      "attachments": {},
      "cell_type": "markdown",
      "metadata": {
        "id": "K7lKud4Kxyf7"
      },
      "source": [
        "### Initialise pyspark session and loading data and save to redis table"
      ]
    },
    {
      "cell_type": "code",
      "execution_count": 2,
      "metadata": {
        "id": "JTFhG9QXxyf7"
      },
      "outputs": [
        {
          "name": "stdout",
          "output_type": "stream",
          "text": [
            "The start time is : 17425.14962893\n"
          ]
        },
        {
          "name": "stderr",
          "output_type": "stream",
          "text": [
            "23/01/11 18:29:14 WARN Utils: Your hostname, h1m1w1-CRAWLER-E10 resolves to a loopback address: 127.0.1.1; using 192.168.1.121 instead (on interface wlp0s20f3)\n",
            "23/01/11 18:29:14 WARN Utils: Set SPARK_LOCAL_IP if you need to bind to another address\n",
            "Using Spark's default log4j profile: org/apache/spark/log4j-defaults.properties\n",
            "Setting default log level to \"WARN\".\n",
            "To adjust logging level use sc.setLogLevel(newLevel). For SparkR, use setLogLevel(newLevel).\n",
            "23/01/11 18:29:15 WARN NativeCodeLoader: Unable to load native-hadoop library for your platform... using builtin-java classes where applicable\n"
          ]
        },
        {
          "name": "stdout",
          "output_type": "stream",
          "text": [
            "The time difference is : 7.097728323999036\n"
          ]
        }
      ],
      "source": [
        "# initialise pyspark session\n",
        "starttime = timeit.default_timer()\n",
        "print(\"The start time is :\",starttime)\n",
        "spark = SparkSession.builder \\\n",
        "        .master(f\"local[{multiprocessing.cpu_count()}]\") \\\n",
        "        .appName(\"pin_app\") \\\n",
        "        .getOrCreate()\n",
        "        # .master(\"local[*]\")\\\n",
        "        \n",
        "        \n",
        "\n",
        "# hadoopConf = sc._jsc.hadoopConfiguration()\n",
        "# hadoopConf.set(\"fs.s3.impl\", \"org.apache.hadoop.fs.s3a.S3AFileSystem\")\n",
        "# hadoopConf.set('fs.s3a.access.key',<your access key>)\n",
        "# hadoopConf.set('fs.s3a.secret.key', <your secret key>)\n",
        "# hadoopConf.set('spark.hadoop.fs.s3a.aws.credentials.provider', 'org.apache.hadoop.fs.s3a.SimpleAWSCredentialsProvider')\n",
        "print(\"The time difference is :\", timeit.default_timer() - starttime)\n",
        "\n",
        "\n"
      ]
    },
    {
      "cell_type": "code",
      "execution_count": 3,
      "metadata": {
        "id": "4GUNVm-qxyf8",
        "outputId": "8c82fca4-0921-4a05-970b-5a328aff5f17"
      },
      "outputs": [
        {
          "name": "stdout",
          "output_type": "stream",
          "text": [
            "The start time is : 17443.755173812\n"
          ]
        },
        {
          "name": "stderr",
          "output_type": "stream",
          "text": [
            "                                                                                \r"
          ]
        },
        {
          "name": "stdout",
          "output_type": "stream",
          "text": [
            "+----------+--------------------+----------+--------------+--------------------+-----+-----------------+-------------+--------------------+--------------------+--------------------+--------------------+\n",
            "|  category|         description|downloaded|follower_count|           image_src|index|is_image_or_video|  poster_name|       save_location|            tag_list|               title|           unique_id|\n",
            "+----------+--------------------+----------+--------------+--------------------+-----+-----------------+-------------+--------------------+--------------------+--------------------+--------------------+\n",
            "|   tattoos|Elmira Kruger sha...|         1|           848|https://i.pinimg....| 8822|            image|Alicia Keller|Local save in /da...|Arm Sleeve Tattoo...|Elmira Kruger on ...|db80a4e4-293a-45c...|\n",
            "|home-decor|Вместе с Русланом...|         1|           35k|https://i.pinimg....| 5996|            image|  INMYROOM.RU|Local save in /da...|Scandinavian Inte...|Где найти и как о...|4081ef06-637d-4cf...|\n",
            "+----------+--------------------+----------+--------------+--------------------+-----+-----------------+-------------+--------------------+--------------------+--------------------+--------------------+\n",
            "only showing top 2 rows\n",
            "\n",
            "The time difference is : 54.4309972450028\n"
          ]
        }
      ],
      "source": [
        "# load data as json files\n",
        "starttime = timeit.default_timer()\n",
        "print(\"The start time is :\",starttime)\n",
        "df = spark.read.json(\"s3a:\//basicaccountstack-pinterestdataeng-proje-datalake-tcvpj2nf0cpq\/*.json\")\n",
        "df.show(2)\n",
        "print(\"The time difference is :\", timeit.default_timer() - starttime)\n"
      ]
    },
    {
      "cell_type": "code",
      "execution_count": 5,
      "metadata": {},
      "outputs": [
        {
          "name": "stdout",
          "output_type": "stream",
          "text": [
            "The start time is : 17520.828128229\n"
          ]
        },
        {
          "name": "stderr",
          "output_type": "stream",
          "text": [
            "[Stage 7:====================================================>  (606 + 8) / 633]\r"
          ]
        },
        {
          "name": "stdout",
          "output_type": "stream",
          "text": [
            "The time difference is : 9.510933825000393\n"
          ]
        },
        {
          "name": "stderr",
          "output_type": "stream",
          "text": [
            "                                                                                \r"
          ]
        }
      ],
      "source": [
        "# save dataframe to redis table\n",
        "starttime = timeit.default_timer()\n",
        "print(\"The start time is :\",starttime)\n",
        "df.write.format(\"org.apache.spark.sql.redis\").option(\"table\", \"pins\").option(\"key.column\", \"index\").save()\n",
        "print(\"The time difference is :\", timeit.default_timer() - starttime)\n"
      ]
    },
    {
      "cell_type": "code",
      "execution_count": 6,
      "metadata": {},
      "outputs": [
        {
          "name": "stdout",
          "output_type": "stream",
          "text": [
            "The start time is : 17543.232067959\n",
            "The time difference is : 0.013840228999470128\n"
          ]
        }
      ],
      "source": [
        "# read the dataframe frm redis table \n",
        "starttime = timeit.default_timer()\n",
        "print(\"The start time is :\",starttime)\n",
        "data = spark.read.format(\"org.apache.spark.sql.redis\").option(\"table\", \"pins\").option(\"key.column\", \"index\").load()\n",
        "print(\"The time difference is :\", timeit.default_timer() - starttime)\n"
      ]
    },
    {
      "attachments": {},
      "cell_type": "markdown",
      "metadata": {
        "id": "GTk2xQaWxyf8"
      },
      "source": [
        "### Data cleaning / Remove duplicates "
      ]
    },
    {
      "cell_type": "code",
      "execution_count": 7,
      "metadata": {},
      "outputs": [
        {
          "name": "stdout",
          "output_type": "stream",
          "text": [
            "The start time is : 17550.987833464\n"
          ]
        },
        {
          "name": "stderr",
          "output_type": "stream",
          "text": [
            "[Stage 8:>                                                          (0 + 3) / 3]\r"
          ]
        },
        {
          "name": "stdout",
          "output_type": "stream",
          "text": [
            "+--------------+-----------------------------------------------------------------------------------------------------------------------------------------------------------------------------------+----------+--------------+----------------------------------------------------------------------------+-----+------------------------------+----------------------------------------------------------------------------------------+----------------------------------+--------------------------------------------------------------------------------------------------------------------------------------------------------------------------------------+------------------------------------------------------------------------------+------------------------------------+\n",
            "|category      |description                                                                                                                                                                        |downloaded|follower_count|image_src                                                                   |index|is_image_or_video             |poster_name                                                                             |save_location                     |tag_list                                                                                                                                                                              |title                                                                         |unique_id                           |\n",
            "+--------------+-----------------------------------------------------------------------------------------------------------------------------------------------------------------------------------+----------+--------------+----------------------------------------------------------------------------+-----+------------------------------+----------------------------------------------------------------------------------------+----------------------------------+--------------------------------------------------------------------------------------------------------------------------------------------------------------------------------------+------------------------------------------------------------------------------+------------------------------------+\n",
            "|education     |No Prep Telling Time Games: Roll & Cover - This Reading Mama                                                                                                                       |1         |175k          |https://i.pinimg.com/originals/1f/09/19/1f0919652da1bdb09483e35df7dc77ba.jpg|3937 |image                         |This Reading Mama                                                                       |Local save in /data/education     |Telling Time Games,Telling Time Activities,Teaching Time,Teaching Math,Telling Time For Kids,Telling Time In Spanish,Math Activities,Math For Kids,Fun Math                           |No Prep Telling Time Games: Roll & Cover - This Reading Mama                  |a4c64947-0752-43bf-8d35-ee66f485f95c|\n",
            "|mens-fashion  |40,000+ FOLLOWERS #MENSWEAR                                                                                                                                                        |1         |2k            |https://i.pinimg.com/originals/c8/22/38/c82238d87da30213bc44865103a087e0.jpg|6967 |image                         |Katie Washington                                                                        |Local save in /data/mens-fashion  |Mens Fashion Wear,Suit Fashion,Men Fashion Casual,Fashion Shirts,Work Fashion,Fashion 2020,Fashion Clothes,Womens Fashion,Style Fashion                                               |I understand & wish to continue                                               |af54a363-6933-4ee4-988c-94484236410a|\n",
            "|beauty        |Inspired by the Pacific Northwest's rolling beauty, this deep green shade will leave you wanting to explore the great outdoors. Finish: GlossyOpacity: Full Also available as a p… |1         |1k            |https://i.pinimg.com/originals/68/b7/19/68b719efa58c5ac6a09602633bd822f6.jpg|1246 |image                         |ManiMe | Custom-Fit, Stick-On Gel Nails                                                 |Local save in /data/beauty        |Pink Nail Colors,Cute Pink Nails,One Color Nails,Short Nail Manicure,Short Nails,Gel Manicure,Usa Nails,Gel Nail Designs,Nails Design                                                 |Evergreen                                                                     |563d865a-841d-48e6-8e6e-ebf4add544b7|\n",
            "|tattoos       |Tattooing is an art form that predates textually written history, with the earliest example dating as far back as 3400 BCE. It has been woven into numerous forms of religions, c… |1         |150           |https://i.pinimg.com/originals/53/99/b5/5399b5f41e46aca706ef891731ee80f5.jpg|8889 |image                         |Mandy Yancer                                                                            |Local save in /data/tattoos       |Dream Tattoos,Body Art Tattoos,Small Tattoos,Back Of Leg Tattoos,Life Tattoos,Tatoos,Goth Tattoo,Arm Tattoo,Tatto Harry Potter                                                        |Witchy Tattoo Motifs                                                          |8cfcf776-7622-44a0-be78-e059b9b65f91|\n",
            "|art           |Step by step video tutorial on creating an art journal                                                                                                                             |1         |11k           |https://i.pinimg.com/originals/32/c3/fc/32c3fccf12b9e2cfd120b50bdfd61090.jpg|630  |image                         |Vicky                                                                                   |Local save in /data/art           |Art Journal Challenge,Art Journal Prompts,Art Journal Techniques,Journal Ideas,Art Journals,Art Journal Inspiration,Painting Inspiration,Inspiration Quotes,Art Drawings For Kids     |Art Journal : Shoot for the stars | Clips-n-Cuts                              |66090917-f0df-40ab-b36a-891ec44f1d73|\n",
            "|christmas     |This hand made Christmas wreath will make any holiday door perfect! Made with red, green, and white deco mesh, 4 different ribbons, Wooden Santa Stop Here sign, and ornament bal… |1         |1k            |https://i.pinimg.com/originals/16/7e/55/167e5513a3820d7a909359169d62eaf2.jpg|1997 |image                         |WreathsbyJaimeLyn and WayMakerCreations                                                 |Local save in /data/christmas     |Christmas Wreaths For Front Door,Holiday Wreaths,Christmas Decorations,Holiday Decor,Christmas Crafts,Christmas Porch,Christmas Gnome,Rustic Christmas,Merry Christmas Sign           |Santa wreath, Christmas Santa Wreath, Santa Stop here wreath, Christmas wreath|c5b58967-5c09-42ea-a824-ec70bdbba9f9|\n",
            "|home-decor    |How To build a DIY Console for your home entryway. #console #diy                                                                                                                   |1         |60k           |https://i.pinimg.com/originals/d2/de/00/d2de00eaf904ea600e9c09b1e3597f32.jpg|6048 |image                         |Handmade Haven | Woodworking + DIY + Home Decor                                         |Local save in /data/home-decor    |Diy Furniture Projects,Diy Furniture Plans,Table Furniture,Furniture Storage,Bedroom Storage,Diy House Furniture,Diy Bedroom Projects,Bedroom Drawers,Diy Furniture For Apartments    |DIY Console Table                                                             |c0023bfe-1bff-447b-b386-8433660c25b1|\n",
            "|travel        |Travel essentials you should pack for your next trip! A packing list with 22 things to bring in your carry-on luggage to make your trip organized.                                 |1         |21k           |https://i.pinimg.com/originals/8a/74/e3/8a74e346f2c395873184f5701f03314f.jpg|10249|image                         |Rachelle Lucas                                                                          |Local save in /data/travel        |Travel Backpack Carry On,Carry On Packing,Packing Tips For Vacation,Carry On Bag,Travel Packing,Vacation Trips,Vacation Packing,Suitcase Packing,Packing Lists                        |22 Travel Essentials You Should Pack For Your Next Trip                       |aeb3e6f5-56e3-4c0a-ba3f-ecc5b07b27f2|\n",
            "|diy-and-crafts|Are you looking for easy Christmas crafts for kids to make with popsicle sticks? There are three Omament ideas kids will love making with popsicle sticks including Santa, Christ… |1         |603           |https://i.pinimg.com/originals/f2/84/93/f28493461fdd7e39cfb48d0b97aab280.jpg|2989 |image                         |Crafts Meet Kids | Crafts & Activities For Kids                                         |Local save in /data/diy-and-crafts|Preschool Christmas Crafts,Christmas Arts And Crafts,Kids Christmas Ornaments,Winter Crafts For Kids,Xmas Crafts,Craft Stick Crafts,Christmas Diy,Reindeer Christmas,Popsicle Crafts  |Popsicle Stick Christmas Omament Crafts For Kids                              |eedecd28-a687-465d-839c-4781ae80c489|\n",
            "|finance       |If you're looking to turn around your finances and get control of money, Dave Ramsey's advice is as solid as it comes. Check out our list of critical ways that Dave gets it righ… |1         |19k           |https://i.pinimg.com/originals/51/d8/40/51d840956701bd241122b78b296ae0c4.png|5348 |image                         |FinanceSuperhero | Personal Finance                                                     |Local save in /data/finance       |Ways To Save Money,Money Tips,Money Saving Tips,How To Make Money,Saving Ideas,Frugal Living Tips,Frugal Tips,Personal Finance Articles,Financial Tips                                |7 Critical Ways Dave Ramsey is Right About Money - Finance Superhero          |edd83369-69fd-4193-ad5f-431648b3178e|\n",
            "|home-decor    |I’ve had many conversations lately with readers and friends about how difficult it can be to style shelves, and it got me thinking about the process I use and what tips and secr… |1         |195k          |https://i.pinimg.com/originals/7d/56/d9/7d56d95706ca6a11aa67d732e282b283.jpg|6610 |image                         |Love Grows Wild // Liz Fourez | Interior Design, Home Renovating, Styling + DIY Projects|Local save in /data/home-decor    |Home Decor Shelves,Living Room Shelves,Living Room Decor,Entryway Shelf,Kitchen Bookshelf,Shelving Decor,Kitchen Shelf Decor,Office Shelf,Open Shelving                               |Shelf Styling 101                                                             |c77a2cda-af8f-4350-8ead-757c392e1243|\n",
            "|tattoos       |No description available Story format                                                                                                                                              |0         |36            |Image src error.                                                            |9444 |multi-video(story page format)|Taylor Mackenzie                                                                        |Local save in /data/tattoos       |Silouette Tattoo,Theme Tattoo,1 Tattoo,Tattoo Quotes,Unity Tattoo,Flame Tattoos,Dope Tattoos,Cloud Tattoos,Subtle Tattoos                                                             |Tattoo Ideas                                                                  |4c2e477a-3230-4eec-8fd5-b6ff98d510bc|\n",
            "|home-decor    |Our home consists of neutral, simple and easy to manage decor this summer! I'd love fo ryou to come take a peek into our Modern Farmhouse Summer Living Room                       |1         |90k           |https://i.pinimg.com/originals/eb/e2/89/ebe289331b3ea8e63c67f824b1ca1233.jpg|6352 |image                         |Cherished Bliss                                                                         |Local save in /data/home-decor    |Modern Farmhouse Living Room Decor,Living Room Modern,Home Living Room,Rustic Farmhouse,Farmhouse Style,Small Living,Farmhouse Ideas,Farmhouse Design,Design Living Room              |Modern Farmhouse Summer Living Room Tour - Cherished Bliss                    |f8e81ce7-70c8-4f87-b391-1bf0d85e41d3|\n",
            "|event-planning|No description available                                                                                                                                                           |1         |418           |https://i.pinimg.com/originals/f9/eb/5b/f9eb5b430a1e394e62a0a213a8a9e4aa.jpg|5009 |image                         |lutch pillay                                                                            |Local save in /data/event-planning|Indian Wedding Gifts,Desi Wedding Decor,Bengali Wedding,Indian Wedding Decorations,Wedding Ideas,Diy Wedding,Wedding Designs,Wedding Table,Perfect Wedding                            |Wedding Gifts Wrapping Unique Ideas For 2019                                  |4dbd34ca-1309-4224-8128-35adde9d4a5f|\n",
            "|quotes        |These 20 quotes about marriage are perfect! Every married couple will enjoy this combination of love quotes as well as funny marriage quotes! Husbands and wives everywhere will…  |1         |19k           |https://i.pinimg.com/originals/87/81/53/878153559e97cd4a7ec63ee88311b5f3.jpg|8213 |image                         |Motivation for Mom                                                                      |Local save in /data/quotes        |Love My Husband Quotes,Husband Humor,Love Quotes For Her,Cute Love Quotes,Quotes About Husbands,Funny Husband Quotes,Quotes About Couples,Nobody Is Perfect Quotes,Funny Couple Quotes|20 Quotes About Marriage That EVERY Spouse Will Find True – Motivation for Mom|44000966-ac8e-46b6-9006-19e67029c920|\n",
            "|quotes        |It is that she was beautifully out of place for which I used to think that she intends to be so, She Was Beautifully Out Of Place                                                  |1         |5M            |https://i.pinimg.com/originals/63/1f/7f/631f7fde5672c53131db6e1e0d728c43.jpg|8208 |image                         |The Minds Journal                                                                       |Local save in /data/quotes        |Now Quotes,Life Quotes Love,Great Quotes,Words Quotes,Wise Words,Quotes To Live By,Inspirational Quotes,Sayings,Faith Quotes                                                          |She Was Beautifully Out Of Place                                              |143fd1b3-96a2-418c-8fca-bb60582961f1|\n",
            "|art           |This article will teach you to draw various types of dresses. Try drawing cute dresses if this doesn't suit you. Look carefully at your girl. Make sure you are satisfied with he… |1         |2M            |https://i.pinimg.com/originals/de/4e/6d/de4e6d88d14cbd6e6cb75174206da5cf.jpg|420  |image                         |wikiHow                                                                                 |Local save in /data/art           |Art Drawings Sketches Simple,Detailed Drawings,Pencil Art Drawings,Easy Drawings,Drawing Ideas,Simple Cute Drawings,Tattoo Drawings,Art And Illustration,Art Sketchbook               |How to Draw a Dress                                                           |5f951230-afd0-42e6-b481-a59d4ddeb049|\n",
            "|art           |Georgia O'Keeffe was famous for her large and detailed paintings. This month, let's celebrate her birth anniversary with 10 Fun O'Keeffe projects for kids!                        |1         |229k          |https://i.pinimg.com/originals/d8/5b/b2/d85bb27c34fee044a79e6baa8438199c.jpg|776  |image                         |ArtsyCraftsyMom | Art, Craft & DIY ideas                                                |Local save in /data/art           |Kindergarten Art,Preschool Art,School Art Projects,Projects For Kids,Art Education Projects,Project Ideas,Art Montessori,Montessori Elementary,Programme D'art                        |Top 10 Artist Georgia O'Keeffe Projects for Kids                              |3b854e08-3dab-4c20-a82a-b52d8f3b38ac|\n",
            "|vehicles      |Lifestyle, Auto, Food & Drink, and Home & Garden online news and information                                                                                                       |1         |1k            |https://i.pinimg.com/originals/e6/56/ad/e656ad0618625a69f1050b82b2ac5d8e.jpg|10578|image                         |Bryce W.                                                                                |Local save in /data/vehicles      |Jeep Dodge,Jeep 4x4,Dodge Trucks,Jeep Truck,Military Jeep,Military Vehicles,Big Rig Trucks,Old Trucks,Classic Trucks                                                                  |Lifestyle | Fox News                                                          |1386ddce-8d1e-40d8-af34-7730711cce22|\n",
            "|education     |\"Every child deserves a champion: an adult who will never give up on them, who understands the power of connection and insists they become the best they can possibly be.\" -Rita…  |1         |100k          |https://i.pinimg.com/originals/5a/e7/20/5ae720f5a71352053b7af14515338937.jpg|4320 |image                         |PBS                                                                                     |Local save in /data/education     |The Words,Teaching Quotes,Teaching Tips,Being A Teacher Quotes,Best Teacher Quotes,Teacher Memes,Ted Talks Education,Child Education Quotes,Quotes About Education                    |Education leaders deliver first TED Talks on PBS | TED Talks Education | PBS  |4216696b-f67f-489b-ba71-1f5dafd4af01|\n",
            "+--------------+-----------------------------------------------------------------------------------------------------------------------------------------------------------------------------------+----------+--------------+----------------------------------------------------------------------------+-----+------------------------------+----------------------------------------------------------------------------------------+----------------------------------+--------------------------------------------------------------------------------------------------------------------------------------------------------------------------------------+------------------------------------------------------------------------------+------------------------------------+\n",
            "only showing top 20 rows\n",
            "\n",
            "The time difference is : 1.6889006619967404\n"
          ]
        },
        {
          "name": "stderr",
          "output_type": "stream",
          "text": [
            "                                                                                \r"
          ]
        }
      ],
      "source": [
        "# starting ETL\n",
        "starttime = timeit.default_timer()\n",
        "print(\"The start time is :\",starttime)\n",
        "data =data.dropDuplicates()\n",
        "data.na.drop(subset=[\"index\"]) \\\n",
        "   .show(truncate=False)\n",
        "print(\"The time difference is :\", timeit.default_timer() - starttime)\n"
      ]
    },
    {
      "cell_type": "code",
      "execution_count": 8,
      "metadata": {},
      "outputs": [
        {
          "name": "stdout",
          "output_type": "stream",
          "text": [
            "The start time is : 17564.005831874\n"
          ]
        },
        {
          "name": "stderr",
          "output_type": "stream",
          "text": [
            "                                                                                \r"
          ]
        },
        {
          "name": "stdout",
          "output_type": "stream",
          "text": [
            "+--------------+-----+\n",
            "|      category|count|\n",
            "+--------------+-----+\n",
            "|     christmas|  999|\n",
            "|       tattoos|  970|\n",
            "|        quotes|  910|\n",
            "|           art|  892|\n",
            "|     education|  863|\n",
            "|    home-decor|  861|\n",
            "|        travel|  859|\n",
            "|  mens-fashion|  852|\n",
            "|      vehicles|  838|\n",
            "|diy-and-crafts|  830|\n",
            "|       finance|  786|\n",
            "|event-planning|  748|\n",
            "|        beauty|  746|\n",
            "+--------------+-----+\n",
            "\n",
            "+--------------------+-----+\n",
            "|         description|count|\n",
            "+--------------------+-----+\n",
            "|No description av...|  895|\n",
            "|No description av...|  182|\n",
            "|Relationship Rule...|   40|\n",
            "|Our mission at K&...|   24|\n",
            "|Is your order tim...|   14|\n",
            "|Imagine your birt...|   14|\n",
            "|Top Apps for Even...|   14|\n",
            "|Use our easy step...|   12|\n",
            "|It doesn't matter...|   12|\n",
            "|Provide a creativ...|   12|\n",
            "|Macho Moda: Blog ...|    9|\n",
            "|Afrocentric Bathr...|    9|\n",
            "|Getting a tattoo ...|    7|\n",
            "|Tara Jane Crandon...|    7|\n",
            "|Mental health tat...|    7|\n",
            "|Healing takes str...|    7|\n",
            "|There are more wa...|    7|\n",
            "|Made of quality w...|    7|\n",
            "|Sunsum® Manifesta...|    6|\n",
            "|Dragon tattoos ar...|    6|\n",
            "+--------------------+-----+\n",
            "only showing top 20 rows\n",
            "\n",
            "+----------+-----+\n",
            "|downloaded|count|\n",
            "+----------+-----+\n",
            "|         1|10823|\n",
            "|         0|  331|\n",
            "+----------+-----+\n",
            "\n",
            "+--------------+-----+\n",
            "|follower_count|count|\n",
            "+--------------+-----+\n",
            "|            2M|  375|\n",
            "|            2k|  342|\n",
            "|            4k|  261|\n",
            "|          942k|  244|\n",
            "|            5k|  235|\n",
            "|            7k|  230|\n",
            "|            1k|  228|\n",
            "|            3k|  226|\n",
            "|            5M|  215|\n",
            "|            6k|  178|\n",
            "|            1M|  178|\n",
            "|            9k|  144|\n",
            "|            8k|  132|\n",
            "|           10k|  115|\n",
            "|           28k|  115|\n",
            "|           19k|  101|\n",
            "|           20k|  100|\n",
            "|           13k|   94|\n",
            "|           14k|   92|\n",
            "|          190k|   90|\n",
            "+--------------+-----+\n",
            "only showing top 20 rows\n",
            "\n",
            "+--------------------+-----+\n",
            "|           image_src|count|\n",
            "+--------------------+-----+\n",
            "|    Image src error.|  323|\n",
            "|                null|    7|\n",
            "|https://i.pinimg....|    2|\n",
            "|https://i.pinimg....|    2|\n",
            "|https://i.pinimg....|    2|\n",
            "|https://i.pinimg....|    2|\n",
            "|https://i.pinimg....|    2|\n",
            "|https://i.pinimg....|    2|\n",
            "|https://i.pinimg....|    2|\n",
            "|https://i.pinimg....|    2|\n",
            "|https://i.pinimg....|    2|\n",
            "|https://i.pinimg....|    2|\n",
            "|https://i.pinimg....|    2|\n",
            "|https://i.pinimg....|    2|\n",
            "|https://i.pinimg....|    2|\n",
            "|https://i.pinimg....|    2|\n",
            "|https://i.pinimg....|    2|\n",
            "|https://i.pinimg....|    2|\n",
            "|https://i.pinimg....|    2|\n",
            "|https://i.pinimg....|    2|\n",
            "+--------------------+-----+\n",
            "only showing top 20 rows\n",
            "\n"
          ]
        },
        {
          "name": "stderr",
          "output_type": "stream",
          "text": [
            "                                                                                \r"
          ]
        },
        {
          "name": "stdout",
          "output_type": "stream",
          "text": [
            "+-----+-----+\n",
            "|index|count|\n",
            "+-----+-----+\n",
            "| 1677|    1|\n",
            "| 8075|    1|\n",
            "| 1950|    1|\n",
            "| 9715|    1|\n",
            "| 4590|    1|\n",
            "| 9444|    1|\n",
            "| 7544|    1|\n",
            "| 6424|    1|\n",
            "| 3937|    1|\n",
            "| 2989|    1|\n",
            "| 2909|    1|\n",
            "| 7679|    1|\n",
            "| 6489|    1|\n",
            "| 3845|    1|\n",
            "| 6860|    1|\n",
            "| 8636|    1|\n",
            "| 6856|    1|\n",
            "|10430|    1|\n",
            "| 7664|    1|\n",
            "| 4551|    1|\n",
            "+-----+-----+\n",
            "only showing top 20 rows\n",
            "\n",
            "+--------------------+-----+\n",
            "|   is_image_or_video|count|\n",
            "+--------------------+-----+\n",
            "|               image| 9920|\n",
            "|multi-video(story...|  895|\n",
            "|               video|  332|\n",
            "|                null|    7|\n",
            "+--------------------+-----+\n",
            "\n",
            "+--------------------+-----+\n",
            "|         poster_name|count|\n",
            "+--------------------+-----+\n",
            "|           YourTango|  244|\n",
            "|         Bored Panda|  140|\n",
            "|    Our Mindful Life|   88|\n",
            "|     User Info Error|   88|\n",
            "|             Walmart|   86|\n",
            "|   The Minds Journal|   86|\n",
            "|            BuzzFeed|   81|\n",
            "|Dividends Diversi...|   68|\n",
            "|         Boop Decals|   60|\n",
            "|         Next Luxury|   54|\n",
            "|           SOCIETY19|   53|\n",
            "|  One Little Project|   49|\n",
            "|             Blossom|   47|\n",
            "|        TheUnstitchd|   45|\n",
            "|            HikenDip|   45|\n",
            "|Mens Fashion - LI...|   44|\n",
            "|            Wear24-7|   38|\n",
            "|Mala Rock | Rock ...|   36|\n",
            "|       WeAreTeachers|   35|\n",
            "|     TheTrendSpotter|   35|\n",
            "+--------------------+-----+\n",
            "only showing top 20 rows\n",
            "\n",
            "+--------------------+-----+\n",
            "|       save_location|count|\n",
            "+--------------------+-----+\n",
            "|Local save in /da...|  999|\n",
            "|Local save in /da...|  970|\n",
            "|Local save in /da...|  910|\n",
            "|Local save in /da...|  892|\n",
            "|Local save in /da...|  863|\n",
            "|Local save in /da...|  861|\n",
            "|Local save in /da...|  859|\n",
            "|Local save in /da...|  852|\n",
            "|Local save in /da...|  838|\n",
            "|Local save in /da...|  830|\n",
            "|Local save in /da...|  786|\n",
            "|Local save in /da...|  748|\n",
            "|Local save in /da...|  746|\n",
            "+--------------------+-----+\n",
            "\n",
            "+--------------------+-----+\n",
            "|            tag_list|count|\n",
            "+--------------------+-----+\n",
            "|N,o, ,T,a,g,s, ,A...|  171|\n",
            "|Stop Motion,Hobbi...|    6|\n",
            "|Weekly Budget,Bud...|    3|\n",
            "|Boho Chic Living ...|    2|\n",
            "|Mode Masculine,Sh...|    2|\n",
            "|Love My Husband Q...|    2|\n",
            "|Candle Tattoo,Tre...|    2|\n",
            "|Auto Design,Autom...|    2|\n",
            "|Rustic Christmas ...|    2|\n",
            "|Christmas Yarn,Ch...|    2|\n",
            "|Wooden Christmas ...|    2|\n",
            "|Henley Shirts,Wom...|    2|\n",
            "|Christmas Arts An...|    2|\n",
            "|Preschool Christm...|    2|\n",
            "|Holiday Crafts Fo...|    2|\n",
            "|Christmas Bazaar ...|    2|\n",
            "|Boho Kitchen,Farm...|    2|\n",
            "|Budgeting Finance...|    2|\n",
            "|Christmas Gnome,C...|    2|\n",
            "|Line Art Tattoos,...|    2|\n",
            "+--------------------+-----+\n",
            "only showing top 20 rows\n",
            "\n",
            "+--------------------+-----+\n",
            "|               title|count|\n",
            "+--------------------+-----+\n",
            "|No Title Data Ava...|   88|\n",
            "|  Relationship Rules|   17|\n",
            "|Top Apps for Even...|   14|\n",
            "|DIY Abstract Hear...|   12|\n",
            "|18 Daily Motivati...|   10|\n",
            "|Nine Favorite Thi...|    8|\n",
            "|115 Beautiful Sou...|    8|\n",
            "|MULTIPLE Afrocent...|    8|\n",
            "|Cobba | Non-stop ...|    7|\n",
            "|55 Inspiring Ment...|    7|\n",
            "|Artist Makes His ...|    7|\n",
            "|40 Stunning Natur...|    7|\n",
            "|51 Enigmatic Fore...|    7|\n",
            "|'I Love  You' Quo...|    7|\n",
            "|25 Mental Health ...|    7|\n",
            "|How to Work From ...|    6|\n",
            "|Giuseppe Leonardi...|    6|\n",
            "|50 Tattoo Quotes ...|    6|\n",
            "|47 Stunning Badas...|    6|\n",
            "|Robot Challenge S...|    6|\n",
            "+--------------------+-----+\n",
            "only showing top 20 rows\n",
            "\n",
            "+--------------------+-----+\n",
            "|           unique_id|count|\n",
            "+--------------------+-----+\n",
            "|9182a3ca-4831-406...|    1|\n",
            "|fde4a067-e314-4e3...|    1|\n",
            "|c67d11ef-5f80-415...|    1|\n",
            "|653dda7a-b242-4a7...|    1|\n",
            "|94b2a98b-ada5-4b2...|    1|\n",
            "|eea10ea4-65d4-49e...|    1|\n",
            "|60dcc6af-668d-44c...|    1|\n",
            "|5f6cdda5-c949-44f...|    1|\n",
            "|d31885b7-742a-4e2...|    1|\n",
            "|d1dff8dd-8e25-498...|    1|\n",
            "|62acf454-cb9f-409...|    1|\n",
            "|ef591b2b-e03b-4dd...|    1|\n",
            "|238cfcc8-4403-4c9...|    1|\n",
            "|ca29a211-4a2c-42c...|    1|\n",
            "|c4857640-c7da-4de...|    1|\n",
            "|0a89f44b-741a-49b...|    1|\n",
            "|539a1573-a3ad-4c8...|    1|\n",
            "|b3f03712-d2d7-45d...|    1|\n",
            "|65c96357-8969-465...|    1|\n",
            "|d9be03d3-c876-45a...|    1|\n",
            "+--------------------+-----+\n",
            "only showing top 20 rows\n",
            "\n",
            "The time difference is : 11.141404021000199\n"
          ]
        }
      ],
      "source": [
        "starttime = timeit.default_timer()\n",
        "print(\"The start time is :\",starttime)\n",
        "for i in data.columns:\n",
        "    data.groupBy(i).count().orderBy(\"count\", ascending=False).show()\n",
        "print(\"The time difference is :\", timeit.default_timer() - starttime)\n"
      ]
    },
    {
      "cell_type": "code",
      "execution_count": 9,
      "metadata": {
        "id": "sppyfDM4xyf8",
        "outputId": "fd9c8835-3cae-4774-e6d1-ec07111b74d1"
      },
      "outputs": [
        {
          "name": "stdout",
          "output_type": "stream",
          "text": [
            "The start time is : 17580.108028812\n",
            "11154\n",
            "The time difference is : 0.37152256600165856\n"
          ]
        }
      ],
      "source": [
        "# total rows\n",
        "starttime = timeit.default_timer()\n",
        "print(\"The start time is :\",starttime)\n",
        "print(data.count())\n",
        "print(\"The time difference is :\", timeit.default_timer() - starttime)"
      ]
    },
    {
      "cell_type": "code",
      "execution_count": 10,
      "metadata": {
        "id": "HSqyYGxpxyf9"
      },
      "outputs": [
        {
          "name": "stdout",
          "output_type": "stream",
          "text": [
            "The start time is : 17583.941454852\n",
            "The time difference is : 0.003681780999613693\n"
          ]
        }
      ],
      "source": [
        "# remove duplicate rows\n",
        "starttime = timeit.default_timer()\n",
        "print(\"The start time is :\",starttime)\n",
        "data =data.dropDuplicates()\n",
        "print(\"The time difference is :\", timeit.default_timer() - starttime)\n"
      ]
    },
    {
      "cell_type": "code",
      "execution_count": 11,
      "metadata": {
        "id": "4ZlBIMBOxyf9",
        "outputId": "89513bde-2128-40d4-944f-852f53f8621b"
      },
      "outputs": [
        {
          "name": "stdout",
          "output_type": "stream",
          "text": [
            "The start time is : 17587.375368852\n"
          ]
        },
        {
          "name": "stderr",
          "output_type": "stream",
          "text": [
            "[Stage 89:===================================================>  (601 + 8) / 633]\r"
          ]
        },
        {
          "name": "stdout",
          "output_type": "stream",
          "text": [
            "20226\n",
            "The time difference is : 7.383094689997961\n"
          ]
        },
        {
          "name": "stderr",
          "output_type": "stream",
          "text": [
            "                                                                                \r"
          ]
        }
      ],
      "source": [
        "# total rows after removing duplicates.\n",
        "starttime = timeit.default_timer()\n",
        "print(\"The start time is :\",starttime)\n",
        "print(df.count())\n",
        "print(\"The time difference is :\", timeit.default_timer() - starttime)\n"
      ]
    },
    {
      "cell_type": "markdown",
      "metadata": {
        "id": "VuTXNALCxyf9"
      },
      "source": [
        "### Data transformation"
      ]
    },
    {
      "cell_type": "code",
      "execution_count": 12,
      "metadata": {
        "id": "61MpmqAQxyf9",
        "outputId": "de92e029-8909-47b9-b048-9e89c438b891"
      },
      "outputs": [
        {
          "name": "stdout",
          "output_type": "stream",
          "text": [
            "The start time is : 17604.565206599\n",
            "root\n",
            " |-- category: string (nullable = true)\n",
            " |-- description: string (nullable = true)\n",
            " |-- downloaded: long (nullable = true)\n",
            " |-- follower_count: string (nullable = true)\n",
            " |-- image_src: string (nullable = true)\n",
            " |-- index: long (nullable = true)\n",
            " |-- is_image_or_video: string (nullable = true)\n",
            " |-- poster_name: string (nullable = true)\n",
            " |-- save_location: string (nullable = true)\n",
            " |-- tag_list: string (nullable = true)\n",
            " |-- title: string (nullable = true)\n",
            " |-- unique_id: string (nullable = true)\n",
            "\n",
            "The time difference is : 0.002019122999627143\n"
          ]
        }
      ],
      "source": [
        "# dataset schema\n",
        "starttime = timeit.default_timer()\n",
        "print(\"The start time is :\",starttime)\n",
        "data.printSchema()\n",
        "print(\"The time difference is :\", timeit.default_timer() - starttime)\n"
      ]
    },
    {
      "cell_type": "code",
      "execution_count": 14,
      "metadata": {
        "id": "Ix3avMVlxyf-",
        "outputId": "c431ad5d-7986-41a8-83c3-9a5dbd340257"
      },
      "outputs": [
        {
          "name": "stdout",
          "output_type": "stream",
          "text": [
            "The start time is : 17610.936296723\n",
            "[('category', 'string'), ('description', 'string'), ('downloaded', 'bigint'), ('follower_count', 'string'), ('image_src', 'string'), ('index', 'bigint'), ('is_image_or_video', 'string'), ('poster_name', 'string'), ('save_location', 'string'), ('tag_list', 'string'), ('title', 'string'), ('unique_id', 'string')]\n",
            "The time difference is : 0.0005221339997660834\n"
          ]
        }
      ],
      "source": [
        "starttime = timeit.default_timer()\n",
        "print(\"The start time is :\",starttime)\n",
        "print(data.dtypes)\n",
        "print(\"The time difference is :\", timeit.default_timer() - starttime)\n"
      ]
    },
    {
      "cell_type": "code",
      "execution_count": 15,
      "metadata": {
        "id": "8BZFAOPxxyf-",
        "outputId": "0bbb5976-506e-40dd-e0b6-47cb2cd1963a"
      },
      "outputs": [
        {
          "name": "stdout",
          "output_type": "stream",
          "text": [
            "The start time is : 17611.066702423\n",
            "['category', 'description', 'downloaded', 'follower_count', 'image_src', 'index', 'is_image_or_video', 'poster_name', 'save_location', 'tag_list', 'title', 'unique_id']\n",
            "The time difference is : 0.0037685720017179847\n"
          ]
        }
      ],
      "source": [
        "# column names\n",
        "starttime = timeit.default_timer()\n",
        "print(\"The start time is :\",starttime)\n",
        "print(df.columns)\n",
        "print(\"The time difference is :\", timeit.default_timer() - starttime)\n"
      ]
    },
    {
      "cell_type": "code",
      "execution_count": 16,
      "metadata": {
        "id": "PKUDHnITxyf-",
        "outputId": "b2115dba-b560-4c0f-ad7d-2ce6f7effe49"
      },
      "outputs": [
        {
          "name": "stdout",
          "output_type": "stream",
          "text": [
            "The start time is : 17611.190124636\n",
            "+--------------+-----+\n",
            "|      category|count|\n",
            "+--------------+-----+\n",
            "|     christmas|  999|\n",
            "|       tattoos|  970|\n",
            "|        quotes|  910|\n",
            "|           art|  892|\n",
            "|     education|  863|\n",
            "|    home-decor|  861|\n",
            "|        travel|  859|\n",
            "|  mens-fashion|  852|\n",
            "|      vehicles|  838|\n",
            "|diy-and-crafts|  830|\n",
            "|       finance|  786|\n",
            "|event-planning|  748|\n",
            "|        beauty|  746|\n",
            "+--------------+-----+\n",
            "\n",
            "+--------------------+-----+\n",
            "|         description|count|\n",
            "+--------------------+-----+\n",
            "|No description av...|  895|\n",
            "|No description av...|  182|\n",
            "|Relationship Rule...|   40|\n",
            "|Our mission at K&...|   24|\n",
            "|Is your order tim...|   14|\n",
            "|Imagine your birt...|   14|\n",
            "|Top Apps for Even...|   14|\n",
            "|Use our easy step...|   12|\n",
            "|It doesn't matter...|   12|\n",
            "|Provide a creativ...|   12|\n",
            "|Macho Moda: Blog ...|    9|\n",
            "|Afrocentric Bathr...|    9|\n",
            "|Getting a tattoo ...|    7|\n",
            "|Tara Jane Crandon...|    7|\n",
            "|Mental health tat...|    7|\n",
            "|Healing takes str...|    7|\n",
            "|There are more wa...|    7|\n",
            "|Made of quality w...|    7|\n",
            "|Sunsum® Manifesta...|    6|\n",
            "|Dragon tattoos ar...|    6|\n",
            "+--------------------+-----+\n",
            "only showing top 20 rows\n",
            "\n",
            "+----------+-----+\n",
            "|downloaded|count|\n",
            "+----------+-----+\n",
            "|         1|10823|\n",
            "|         0|  331|\n",
            "+----------+-----+\n",
            "\n",
            "+--------------+-----+\n",
            "|follower_count|count|\n",
            "+--------------+-----+\n",
            "|            2M|  375|\n",
            "|            2k|  342|\n",
            "|            4k|  261|\n",
            "|          942k|  244|\n",
            "|            5k|  235|\n",
            "|            7k|  230|\n",
            "|            1k|  228|\n",
            "|            3k|  226|\n",
            "|            5M|  215|\n",
            "|            6k|  178|\n",
            "|            1M|  178|\n",
            "|            9k|  144|\n",
            "|            8k|  132|\n",
            "|           10k|  115|\n",
            "|           28k|  115|\n",
            "|           19k|  101|\n",
            "|           20k|  100|\n",
            "|           13k|   94|\n",
            "|           14k|   92|\n",
            "|          190k|   90|\n",
            "+--------------+-----+\n",
            "only showing top 20 rows\n",
            "\n",
            "+--------------------+-----+\n",
            "|           image_src|count|\n",
            "+--------------------+-----+\n",
            "|    Image src error.|  323|\n",
            "|                null|    7|\n",
            "|https://i.pinimg....|    2|\n",
            "|https://i.pinimg....|    2|\n",
            "|https://i.pinimg....|    2|\n",
            "|https://i.pinimg....|    2|\n",
            "|https://i.pinimg....|    2|\n",
            "|https://i.pinimg....|    2|\n",
            "|https://i.pinimg....|    2|\n",
            "|https://i.pinimg....|    2|\n",
            "|https://i.pinimg....|    2|\n",
            "|https://i.pinimg....|    2|\n",
            "|https://i.pinimg....|    2|\n",
            "|https://i.pinimg....|    2|\n",
            "|https://i.pinimg....|    2|\n",
            "|https://i.pinimg....|    2|\n",
            "|https://i.pinimg....|    2|\n",
            "|https://i.pinimg....|    2|\n",
            "|https://i.pinimg....|    2|\n",
            "|https://i.pinimg....|    2|\n",
            "+--------------------+-----+\n",
            "only showing top 20 rows\n",
            "\n",
            "+-----+-----+\n",
            "|index|count|\n",
            "+-----+-----+\n",
            "| 1677|    1|\n",
            "| 8075|    1|\n",
            "| 1950|    1|\n",
            "| 9715|    1|\n",
            "| 4590|    1|\n",
            "| 9444|    1|\n",
            "| 7544|    1|\n",
            "| 6424|    1|\n",
            "| 3937|    1|\n",
            "| 2989|    1|\n",
            "| 2909|    1|\n",
            "| 7679|    1|\n",
            "| 6489|    1|\n",
            "| 3845|    1|\n",
            "| 6860|    1|\n",
            "| 8636|    1|\n",
            "| 6856|    1|\n",
            "|10430|    1|\n",
            "| 7664|    1|\n",
            "| 4551|    1|\n",
            "+-----+-----+\n",
            "only showing top 20 rows\n",
            "\n",
            "+--------------------+-----+\n",
            "|   is_image_or_video|count|\n",
            "+--------------------+-----+\n",
            "|               image| 9920|\n",
            "|multi-video(story...|  895|\n",
            "|               video|  332|\n",
            "|                null|    7|\n",
            "+--------------------+-----+\n",
            "\n",
            "+--------------------+-----+\n",
            "|         poster_name|count|\n",
            "+--------------------+-----+\n",
            "|           YourTango|  244|\n",
            "|         Bored Panda|  140|\n",
            "|    Our Mindful Life|   88|\n",
            "|     User Info Error|   88|\n",
            "|             Walmart|   86|\n",
            "|   The Minds Journal|   86|\n",
            "|            BuzzFeed|   81|\n",
            "|Dividends Diversi...|   68|\n",
            "|         Boop Decals|   60|\n",
            "|         Next Luxury|   54|\n",
            "|           SOCIETY19|   53|\n",
            "|  One Little Project|   49|\n",
            "|             Blossom|   47|\n",
            "|        TheUnstitchd|   45|\n",
            "|            HikenDip|   45|\n",
            "|Mens Fashion - LI...|   44|\n",
            "|            Wear24-7|   38|\n",
            "|Mala Rock | Rock ...|   36|\n",
            "|       WeAreTeachers|   35|\n",
            "|     TheTrendSpotter|   35|\n",
            "+--------------------+-----+\n",
            "only showing top 20 rows\n",
            "\n",
            "+--------------------+-----+\n",
            "|       save_location|count|\n",
            "+--------------------+-----+\n",
            "|Local save in /da...|  999|\n",
            "|Local save in /da...|  970|\n",
            "|Local save in /da...|  910|\n",
            "|Local save in /da...|  892|\n",
            "|Local save in /da...|  863|\n",
            "|Local save in /da...|  861|\n",
            "|Local save in /da...|  859|\n",
            "|Local save in /da...|  852|\n",
            "|Local save in /da...|  838|\n",
            "|Local save in /da...|  830|\n",
            "|Local save in /da...|  786|\n",
            "|Local save in /da...|  748|\n",
            "|Local save in /da...|  746|\n",
            "+--------------------+-----+\n",
            "\n",
            "+--------------------+-----+\n",
            "|            tag_list|count|\n",
            "+--------------------+-----+\n",
            "|N,o, ,T,a,g,s, ,A...|  171|\n",
            "|Stop Motion,Hobbi...|    6|\n",
            "|Weekly Budget,Bud...|    3|\n",
            "|Boho Chic Living ...|    2|\n",
            "|Mode Masculine,Sh...|    2|\n",
            "|Love My Husband Q...|    2|\n",
            "|Candle Tattoo,Tre...|    2|\n",
            "|Auto Design,Autom...|    2|\n",
            "|Rustic Christmas ...|    2|\n",
            "|Christmas Yarn,Ch...|    2|\n",
            "|Wooden Christmas ...|    2|\n",
            "|Henley Shirts,Wom...|    2|\n",
            "|Christmas Arts An...|    2|\n",
            "|Preschool Christm...|    2|\n",
            "|Holiday Crafts Fo...|    2|\n",
            "|Christmas Bazaar ...|    2|\n",
            "|Boho Kitchen,Farm...|    2|\n",
            "|Budgeting Finance...|    2|\n",
            "|Christmas Gnome,C...|    2|\n",
            "|Line Art Tattoos,...|    2|\n",
            "+--------------------+-----+\n",
            "only showing top 20 rows\n",
            "\n",
            "+--------------------+-----+\n",
            "|               title|count|\n",
            "+--------------------+-----+\n",
            "|No Title Data Ava...|   88|\n",
            "|  Relationship Rules|   17|\n",
            "|Top Apps for Even...|   14|\n",
            "|DIY Abstract Hear...|   12|\n",
            "|18 Daily Motivati...|   10|\n",
            "|Nine Favorite Thi...|    8|\n",
            "|115 Beautiful Sou...|    8|\n",
            "|MULTIPLE Afrocent...|    8|\n",
            "|Cobba | Non-stop ...|    7|\n",
            "|55 Inspiring Ment...|    7|\n",
            "|Artist Makes His ...|    7|\n",
            "|40 Stunning Natur...|    7|\n",
            "|51 Enigmatic Fore...|    7|\n",
            "|'I Love  You' Quo...|    7|\n",
            "|25 Mental Health ...|    7|\n",
            "|How to Work From ...|    6|\n",
            "|Giuseppe Leonardi...|    6|\n",
            "|50 Tattoo Quotes ...|    6|\n",
            "|47 Stunning Badas...|    6|\n",
            "|Robot Challenge S...|    6|\n",
            "+--------------------+-----+\n",
            "only showing top 20 rows\n",
            "\n",
            "+--------------------+-----+\n",
            "|           unique_id|count|\n",
            "+--------------------+-----+\n",
            "|9182a3ca-4831-406...|    1|\n",
            "|fde4a067-e314-4e3...|    1|\n",
            "|c67d11ef-5f80-415...|    1|\n",
            "|653dda7a-b242-4a7...|    1|\n",
            "|94b2a98b-ada5-4b2...|    1|\n",
            "|eea10ea4-65d4-49e...|    1|\n",
            "|60dcc6af-668d-44c...|    1|\n",
            "|5f6cdda5-c949-44f...|    1|\n",
            "|d31885b7-742a-4e2...|    1|\n",
            "|d1dff8dd-8e25-498...|    1|\n",
            "|62acf454-cb9f-409...|    1|\n",
            "|ef591b2b-e03b-4dd...|    1|\n",
            "|238cfcc8-4403-4c9...|    1|\n",
            "|ca29a211-4a2c-42c...|    1|\n",
            "|c4857640-c7da-4de...|    1|\n",
            "|0a89f44b-741a-49b...|    1|\n",
            "|539a1573-a3ad-4c8...|    1|\n",
            "|b3f03712-d2d7-45d...|    1|\n",
            "|65c96357-8969-465...|    1|\n",
            "|d9be03d3-c876-45a...|    1|\n",
            "+--------------------+-----+\n",
            "only showing top 20 rows\n",
            "\n",
            "The time difference is : 6.774228641999798\n"
          ]
        }
      ],
      "source": [
        "# check errors in each column\n",
        "starttime = timeit.default_timer()\n",
        "print(\"The start time is :\",starttime)\n",
        "for i in df.columns:\n",
        "    data.groupBy(i).count().orderBy(\"count\", ascending=False).show()\n",
        "print(\"The time difference is :\", timeit.default_timer() - starttime)\n"
      ]
    },
    {
      "cell_type": "code",
      "execution_count": 17,
      "metadata": {
        "id": "3pGv9xzDxyf_",
        "outputId": "4e0e27b5-c534-431e-ba6d-74799f8a9246"
      },
      "outputs": [
        {
          "name": "stdout",
          "output_type": "stream",
          "text": [
            "The start time is : 17618.049603949\n",
            "+--------------------+-----+\n",
            "|         description|count|\n",
            "+--------------------+-----+\n",
            "|No description av...|  895|\n",
            "|No description av...|  182|\n",
            "|Relationship Rule...|   40|\n",
            "|Our mission at K&...|   24|\n",
            "|Is your order tim...|   14|\n",
            "|Imagine your birt...|   14|\n",
            "|Top Apps for Even...|   14|\n",
            "|Use our easy step...|   12|\n",
            "|It doesn't matter...|   12|\n",
            "|Provide a creativ...|   12|\n",
            "|Macho Moda: Blog ...|    9|\n",
            "|Afrocentric Bathr...|    9|\n",
            "|Getting a tattoo ...|    7|\n",
            "|Tara Jane Crandon...|    7|\n",
            "|Mental health tat...|    7|\n",
            "|Healing takes str...|    7|\n",
            "|There are more wa...|    7|\n",
            "|Made of quality w...|    7|\n",
            "|Sunsum® Manifesta...|    6|\n",
            "|Dragon tattoos ar...|    6|\n",
            "+--------------------+-----+\n",
            "only showing top 20 rows\n",
            "\n",
            "+--------------------+-----+\n",
            "|   is_image_or_video|count|\n",
            "+--------------------+-----+\n",
            "|               image| 9920|\n",
            "|multi-video(story...|  895|\n",
            "|               video|  332|\n",
            "|                null|    7|\n",
            "+--------------------+-----+\n",
            "\n",
            "+--------------------+-----+\n",
            "|         poster_name|count|\n",
            "+--------------------+-----+\n",
            "|           YourTango|  244|\n",
            "|         Bored Panda|  140|\n",
            "|    Our Mindful Life|   88|\n",
            "|     User Info Error|   88|\n",
            "|             Walmart|   86|\n",
            "|   The Minds Journal|   86|\n",
            "|            BuzzFeed|   81|\n",
            "|Dividends Diversi...|   68|\n",
            "|         Boop Decals|   60|\n",
            "|         Next Luxury|   54|\n",
            "|           SOCIETY19|   53|\n",
            "|  One Little Project|   49|\n",
            "|             Blossom|   47|\n",
            "|        TheUnstitchd|   45|\n",
            "|            HikenDip|   45|\n",
            "|Mens Fashion - LI...|   44|\n",
            "|            Wear24-7|   38|\n",
            "|Mala Rock | Rock ...|   36|\n",
            "|       WeAreTeachers|   35|\n",
            "|     TheTrendSpotter|   35|\n",
            "+--------------------+-----+\n",
            "only showing top 20 rows\n",
            "\n",
            "+--------------------+-----+\n",
            "|       save_location|count|\n",
            "+--------------------+-----+\n",
            "|Local save in /da...|  999|\n",
            "|Local save in /da...|  970|\n",
            "|Local save in /da...|  910|\n",
            "|Local save in /da...|  892|\n",
            "|Local save in /da...|  863|\n",
            "|Local save in /da...|  861|\n",
            "|Local save in /da...|  859|\n",
            "|Local save in /da...|  852|\n",
            "|Local save in /da...|  838|\n",
            "|Local save in /da...|  830|\n",
            "|Local save in /da...|  786|\n",
            "|Local save in /da...|  748|\n",
            "|Local save in /da...|  746|\n",
            "+--------------------+-----+\n",
            "\n",
            "+--------------------+-----+\n",
            "|            tag_list|count|\n",
            "+--------------------+-----+\n",
            "|N,o, ,T,a,g,s, ,A...|  171|\n",
            "|Stop Motion,Hobbi...|    6|\n",
            "|Weekly Budget,Bud...|    3|\n",
            "|Boho Chic Living ...|    2|\n",
            "|Mode Masculine,Sh...|    2|\n",
            "|Love My Husband Q...|    2|\n",
            "|Candle Tattoo,Tre...|    2|\n",
            "|Auto Design,Autom...|    2|\n",
            "|Rustic Christmas ...|    2|\n",
            "|Christmas Yarn,Ch...|    2|\n",
            "|Wooden Christmas ...|    2|\n",
            "|Henley Shirts,Wom...|    2|\n",
            "|Christmas Arts An...|    2|\n",
            "|Preschool Christm...|    2|\n",
            "|Holiday Crafts Fo...|    2|\n",
            "|Christmas Bazaar ...|    2|\n",
            "|Boho Kitchen,Farm...|    2|\n",
            "|Budgeting Finance...|    2|\n",
            "|Christmas Gnome,C...|    2|\n",
            "|Line Art Tattoos,...|    2|\n",
            "+--------------------+-----+\n",
            "only showing top 20 rows\n",
            "\n",
            "+--------------------+-----+\n",
            "|               title|count|\n",
            "+--------------------+-----+\n",
            "|No Title Data Ava...|   88|\n",
            "|  Relationship Rules|   17|\n",
            "|Top Apps for Even...|   14|\n",
            "|DIY Abstract Hear...|   12|\n",
            "|18 Daily Motivati...|   10|\n",
            "|Nine Favorite Thi...|    8|\n",
            "|115 Beautiful Sou...|    8|\n",
            "|MULTIPLE Afrocent...|    8|\n",
            "|Cobba | Non-stop ...|    7|\n",
            "|55 Inspiring Ment...|    7|\n",
            "|Artist Makes His ...|    7|\n",
            "|40 Stunning Natur...|    7|\n",
            "|51 Enigmatic Fore...|    7|\n",
            "|'I Love  You' Quo...|    7|\n",
            "|25 Mental Health ...|    7|\n",
            "|How to Work From ...|    6|\n",
            "|Giuseppe Leonardi...|    6|\n",
            "|50 Tattoo Quotes ...|    6|\n",
            "|47 Stunning Badas...|    6|\n",
            "|Robot Challenge S...|    6|\n",
            "+--------------------+-----+\n",
            "only showing top 20 rows\n",
            "\n",
            "The time difference is : 2.8205232719992637\n"
          ]
        }
      ],
      "source": [
        "# following columns with errors.\n",
        "starttime = timeit.default_timer()\n",
        "print(\"The start time is :\",starttime)\n",
        "for i in [\n",
        " 'description',\n",
        " 'is_image_or_video',\n",
        " 'poster_name',\n",
        " 'save_location',\n",
        " 'tag_list',\n",
        " 'title',\n",
        " ]:\n",
        "    data.groupBy(i).count().orderBy(\"count\", ascending=False).show()\n",
        "print(\"The time difference is :\", timeit.default_timer() - starttime)\n"
      ]
    },
    {
      "cell_type": "code",
      "execution_count": 18,
      "metadata": {
        "id": "69eUY8yZxyf_",
        "outputId": "2b5ffa2a-b5ac-426f-8666-3ce38936b4f9"
      },
      "outputs": [
        {
          "name": "stdout",
          "output_type": "stream",
          "text": [
            "The start time is : 17620.927145757\n",
            "+--------------------+-----+\n",
            "|         description|count|\n",
            "+--------------------+-----+\n",
            "|                null| 1077|\n",
            "|Relationship Rule...|   40|\n",
            "|Our mission at K&...|   24|\n",
            "+--------------------+-----+\n",
            "only showing top 3 rows\n",
            "\n",
            "The time difference is : 0.6642079880002711\n"
          ]
        }
      ],
      "source": [
        "# replace error value or empty value with None\n",
        "starttime = timeit.default_timer()\n",
        "print(\"The start time is :\",starttime)\n",
        "data = data.replace({'No description available Story format': None}, subset = ['description'])\\\n",
        "       .replace({'No description available': None}, subset = ['description'])\n",
        "\n",
        "data.groupBy('description').count().orderBy(\"count\", ascending=False).show(3)\n",
        "print(\"The time difference is :\", timeit.default_timer() - starttime)\n"
      ]
    },
    {
      "cell_type": "code",
      "execution_count": 19,
      "metadata": {
        "id": "VNiVt7jvxyf_",
        "outputId": "8ffd68b8-4ed7-4005-f478-423e3b63e964"
      },
      "outputs": [
        {
          "name": "stdout",
          "output_type": "stream",
          "text": [
            "The start time is : 17621.666888797\n",
            "+----------------+-----+\n",
            "|     poster_name|count|\n",
            "+----------------+-----+\n",
            "|       YourTango|  244|\n",
            "|     Bored Panda|  140|\n",
            "|Our Mindful Life|   88|\n",
            "| User Info Error|   88|\n",
            "|         Walmart|   86|\n",
            "+----------------+-----+\n",
            "only showing top 5 rows\n",
            "\n",
            "The time difference is : 0.6700546739994024\n"
          ]
        }
      ],
      "source": [
        "# display error values in 'poster_name' column\n",
        "starttime = timeit.default_timer()\n",
        "print(\"The start time is :\",starttime)\n",
        "data.groupBy('poster_name').count().orderBy(\"count\", ascending=False).show(5)\n",
        "print(\"The time difference is :\", timeit.default_timer() - starttime)\n"
      ]
    },
    {
      "cell_type": "code",
      "execution_count": 20,
      "metadata": {
        "id": "JF3d2xNexyf_",
        "outputId": "ee074950-19dc-452b-c2b4-daae83c738fc"
      },
      "outputs": [
        {
          "name": "stdout",
          "output_type": "stream",
          "text": [
            "The start time is : 17622.405864725\n",
            "+----------------+-----+\n",
            "|     poster_name|count|\n",
            "+----------------+-----+\n",
            "|       YourTango|  244|\n",
            "|     Bored Panda|  140|\n",
            "|            null|   88|\n",
            "|Our Mindful Life|   88|\n",
            "+----------------+-----+\n",
            "only showing top 4 rows\n",
            "\n",
            "The time difference is : 0.6347206450009253\n"
          ]
        }
      ],
      "source": [
        "# replace error values \"User Info Error\" in column 'poster_name' with null\n",
        "starttime = timeit.default_timer()\n",
        "print(\"The start time is :\",starttime)\n",
        "data = data.replace({'User Info Error': None}, subset = ['poster_name'])\n",
        "data.groupBy('poster_name').count().orderBy(\"count\", ascending=False).show(4)\n",
        "print(\"The time difference is :\", timeit.default_timer() - starttime)\n"
      ]
    },
    {
      "cell_type": "code",
      "execution_count": 21,
      "metadata": {
        "id": "7qiXmNYYxygA",
        "outputId": "d7ca97da-c4c0-4114-9e45-4ac2d9333dbc"
      },
      "outputs": [
        {
          "name": "stdout",
          "output_type": "stream",
          "text": [
            "The start time is : 17623.104328176\n",
            "+--------------------+-----+\n",
            "|            tag_list|count|\n",
            "+--------------------+-----+\n",
            "|N,o, ,T,a,g,s, ,A...|  171|\n",
            "|Stop Motion,Hobbi...|    6|\n",
            "|Weekly Budget,Bud...|    3|\n",
            "|Love My Husband Q...|    2|\n",
            "|Auto Design,Autom...|    2|\n",
            "+--------------------+-----+\n",
            "only showing top 5 rows\n",
            "\n",
            "The time difference is : 0.5105266909995407\n"
          ]
        }
      ],
      "source": [
        "# display error values in 'tag_list' column\n",
        "starttime = timeit.default_timer()\n",
        "print(\"The start time is :\",starttime)\n",
        "data.groupBy('tag_list').count().orderBy(\"count\", ascending=False).show(5)\n",
        "print(\"The time difference is :\", timeit.default_timer() - starttime)\n"
      ]
    },
    {
      "cell_type": "code",
      "execution_count": 22,
      "metadata": {
        "id": "kSZuQCZfxygA",
        "outputId": "3f5a37bd-e105-448d-e300-84ea2d072167"
      },
      "outputs": [
        {
          "name": "stdout",
          "output_type": "stream",
          "text": [
            "The start time is : 17623.68373122\n",
            "N,o, ,T,a,g,s, ,A,v,a,i,l,a,b,l,e\n",
            "The time difference is : 1.4744064119986433\n"
          ]
        }
      ],
      "source": [
        "# get error value in tag_list\n",
        "starttime = timeit.default_timer()\n",
        "print(\"The start time is :\",starttime)\n",
        "tag = data.groupBy('tag_list').count().orderBy(\"count\", ascending=False)\n",
        "print(tag.collect()[0][0])\n",
        "print(\"The time difference is :\", timeit.default_timer() - starttime)\n"
      ]
    },
    {
      "cell_type": "code",
      "execution_count": 23,
      "metadata": {
        "id": "Y75s90tjxygA",
        "outputId": "af37dea3-2233-476d-f02f-6eaf57e40dbf"
      },
      "outputs": [
        {
          "name": "stdout",
          "output_type": "stream",
          "text": [
            "The start time is : 17625.244055153\n",
            "+--------------------+-----+\n",
            "|            tag_list|count|\n",
            "+--------------------+-----+\n",
            "|                null|  171|\n",
            "|Stop Motion,Hobbi...|    6|\n",
            "|Weekly Budget,Bud...|    3|\n",
            "|Love My Husband Q...|    2|\n",
            "+--------------------+-----+\n",
            "only showing top 4 rows\n",
            "\n",
            "The time difference is : 0.7939933039997413\n"
          ]
        }
      ],
      "source": [
        "# replace error values with null\n",
        "starttime = timeit.default_timer()\n",
        "print(\"The start time is :\",starttime)\n",
        "data = data.replace({'N,o, ,T,a,g,s, ,A,v,a,i,l,a,b,l,e': None}, subset = ['tag_list'])\n",
        "# display tag list values after remove error values\n",
        "data.groupBy('tag_list').count().orderBy(\"count\", ascending=False).show(4)\n",
        "print(\"The time difference is :\", timeit.default_timer() - starttime)\n"
      ]
    },
    {
      "cell_type": "code",
      "execution_count": 24,
      "metadata": {
        "id": "mwVqtInaxygA",
        "outputId": "fb98054b-3b21-4fce-9d83-4652e338bdf7"
      },
      "outputs": [
        {
          "name": "stdout",
          "output_type": "stream",
          "text": [
            "The start time is : 17626.120727629\n",
            "+--------------------+-----+\n",
            "|               title|count|\n",
            "+--------------------+-----+\n",
            "|No Title Data Ava...|   88|\n",
            "|  Relationship Rules|   17|\n",
            "|Top Apps for Even...|   14|\n",
            "|DIY Abstract Hear...|   12|\n",
            "|18 Daily Motivati...|   10|\n",
            "+--------------------+-----+\n",
            "only showing top 5 rows\n",
            "\n",
            "The time difference is : 0.5423302529998182\n"
          ]
        }
      ],
      "source": [
        "# display error values in 'title' column\n",
        "starttime = timeit.default_timer()\n",
        "print(\"The start time is :\",starttime)\n",
        "data.groupBy('title').count().orderBy(\"count\", ascending=False).show(5)\n",
        "print(\"The time difference is :\", timeit.default_timer() - starttime)\n"
      ]
    },
    {
      "cell_type": "code",
      "execution_count": 25,
      "metadata": {
        "id": "LylWZgF7xygA",
        "outputId": "a71fd7de-316d-44dd-c331-105974b0f71d"
      },
      "outputs": [
        {
          "name": "stdout",
          "output_type": "stream",
          "text": [
            "The start time is : 17626.717487712\n",
            "The time difference is : 0.8358624979991873\n"
          ]
        }
      ],
      "source": [
        "# get error value in title column\n",
        "starttime = timeit.default_timer()\n",
        "print(\"The start time is :\",starttime)\n",
        "tag = data.groupBy('title').count().orderBy(\"count\", ascending=False)\n",
        "tag.collect()[0][0]\n",
        "print(\"The time difference is :\", timeit.default_timer() - starttime)\n"
      ]
    },
    {
      "cell_type": "code",
      "execution_count": null,
      "metadata": {},
      "outputs": [],
      "source": []
    },
    {
      "cell_type": "code",
      "execution_count": 26,
      "metadata": {
        "id": "5ZbwCzo5xygB",
        "outputId": "7f8fe972-0f5a-4a41-aa61-1ff21094b51f"
      },
      "outputs": [
        {
          "name": "stdout",
          "output_type": "stream",
          "text": [
            "The start time is : 17627.879071349\n",
            "+--------------------+-----+\n",
            "|               title|count|\n",
            "+--------------------+-----+\n",
            "|                null|   88|\n",
            "|  Relationship Rules|   17|\n",
            "|Top Apps for Even...|   14|\n",
            "|DIY Abstract Hear...|   12|\n",
            "+--------------------+-----+\n",
            "only showing top 4 rows\n",
            "\n",
            "The time difference is : 0.9163785349992395\n"
          ]
        }
      ],
      "source": [
        "# replace error value with null\n",
        "starttime = timeit.default_timer()\n",
        "print(\"The start time is :\",starttime)\n",
        "data = data.replace({'No Title Data Available': None}, subset = ['title'])\n",
        "data.groupBy('title').count().orderBy(\"count\", ascending=False).show(4)\n",
        "print(\"The time difference is :\", timeit.default_timer() - starttime)\n"
      ]
    },
    {
      "cell_type": "code",
      "execution_count": 27,
      "metadata": {
        "id": "7Qv-HKA_xygB",
        "outputId": "52a2b8ac-7563-42cb-db0a-1ea0a5a9cd6b"
      },
      "outputs": [
        {
          "name": "stdout",
          "output_type": "stream",
          "text": [
            "The start time is : 17628.90459745\n",
            "+--------------------+-----+\n",
            "|       save_location|count|\n",
            "+--------------------+-----+\n",
            "|Local save in /da...|  999|\n",
            "|Local save in /da...|  970|\n",
            "|Local save in /da...|  910|\n",
            "|Local save in /da...|  892|\n",
            "|Local save in /da...|  863|\n",
            "|Local save in /da...|  861|\n",
            "|Local save in /da...|  859|\n",
            "|Local save in /da...|  852|\n",
            "|Local save in /da...|  838|\n",
            "|Local save in /da...|  830|\n",
            "|Local save in /da...|  786|\n",
            "|Local save in /da...|  748|\n",
            "|Local save in /da...|  746|\n",
            "+--------------------+-----+\n",
            "\n",
            "The time difference is : 0.6198810569985653\n"
          ]
        }
      ],
      "source": [
        "# display error value in save_location column\n",
        "starttime = timeit.default_timer()\n",
        "print(\"The start time is :\",starttime)\n",
        "data.groupBy('save_location').count().orderBy(\"count\", ascending=False).show(50)\n",
        "print(\"The time difference is :\", timeit.default_timer() - starttime)\n"
      ]
    },
    {
      "cell_type": "code",
      "execution_count": 28,
      "metadata": {
        "id": "t81b6o_5xygB",
        "outputId": "b8560dcb-754e-4c25-bf30-deda01309e7d"
      },
      "outputs": [
        {
          "name": "stdout",
          "output_type": "stream",
          "text": [
            "The start time is : 17629.598207864\n",
            "Local save in /data/christmas\n",
            "The time difference is : 0.3660508569992089\n"
          ]
        }
      ],
      "source": [
        "# get example of error value in save_location column\n",
        "starttime = timeit.default_timer()\n",
        "print(\"The start time is :\",starttime)\n",
        "location_column = data.groupBy('save_location').count().orderBy(\"count\", ascending=False)\n",
        "print(location_column.collect()[0][0])\n",
        "print(\"The time difference is :\", timeit.default_timer() - starttime)\n"
      ]
    },
    {
      "cell_type": "code",
      "execution_count": 29,
      "metadata": {
        "id": "WW9dufj6xygB",
        "outputId": "f8e22209-48fb-489f-bfd8-7c28225ca859"
      },
      "outputs": [
        {
          "name": "stdout",
          "output_type": "stream",
          "text": [
            "The start time is : 17630.023339833\n",
            "+--------------------+-----+\n",
            "|       save_location|count|\n",
            "+--------------------+-----+\n",
            "|     /data/christmas|  999|\n",
            "|       /data/tattoos|  970|\n",
            "|        /data/quotes|  910|\n",
            "|           /data/art|  892|\n",
            "|     /data/education|  863|\n",
            "|    /data/home-decor|  861|\n",
            "|        /data/travel|  859|\n",
            "|  /data/mens-fashion|  852|\n",
            "|      /data/vehicles|  838|\n",
            "|/data/diy-and-crafts|  830|\n",
            "|       /data/finance|  786|\n",
            "|/data/event-planning|  748|\n",
            "|        /data/beauty|  746|\n",
            "+--------------------+-----+\n",
            "\n",
            "The time difference is : 0.5866127240005881\n"
          ]
        }
      ],
      "source": [
        "# replace/remove error part of the values \n",
        "starttime = timeit.default_timer()\n",
        "print(\"The start time is :\",starttime)\n",
        "data = data.withColumn('save_location', regexp_replace('save_location', 'Local save in ', '')) \n",
        "data.groupBy('save_location').count().orderBy(\"count\", ascending=False).show()\n",
        "print(\"The time difference is :\", timeit.default_timer() - starttime)\n"
      ]
    },
    {
      "cell_type": "code",
      "execution_count": 30,
      "metadata": {
        "id": "eqd9C6UWxygB",
        "outputId": "d2fdf4e4-7ea4-4884-adb3-176b0280a431"
      },
      "outputs": [
        {
          "name": "stdout",
          "output_type": "stream",
          "text": [
            "The start time is : 17630.674258521\n",
            "+--------------------+-----+\n",
            "|           image_src|count|\n",
            "+--------------------+-----+\n",
            "|    Image src error.|  323|\n",
            "|                null|    7|\n",
            "|https://i.pinimg....|    2|\n",
            "|https://i.pinimg....|    2|\n",
            "+--------------------+-----+\n",
            "only showing top 4 rows\n",
            "\n",
            "The time difference is : 0.5349585589974595\n"
          ]
        }
      ],
      "source": [
        "# display error and null value\n",
        "starttime = timeit.default_timer()\n",
        "print(\"The start time is :\",starttime)\n",
        "data.groupBy('image_src').count().orderBy(\"count\", ascending=False).show(4)\n",
        "print(\"The time difference is :\", timeit.default_timer() - starttime)\n"
      ]
    },
    {
      "cell_type": "code",
      "execution_count": 31,
      "metadata": {
        "id": "C9UmLhfVxygB",
        "outputId": "278d0cdb-7a62-40df-df11-6480189f71b3"
      },
      "outputs": [
        {
          "name": "stdout",
          "output_type": "stream",
          "text": [
            "The start time is : 17631.271712131\n",
            "+--------------------+-----+\n",
            "|           image_src|count|\n",
            "+--------------------+-----+\n",
            "|                null|  330|\n",
            "|https://i.pinimg....|    2|\n",
            "|https://i.pinimg....|    2|\n",
            "|https://i.pinimg....|    2|\n",
            "+--------------------+-----+\n",
            "only showing top 4 rows\n",
            "\n",
            "The time difference is : 0.6417604529997334\n"
          ]
        }
      ],
      "source": [
        "# replace error values with null\n",
        "starttime = timeit.default_timer()\n",
        "print(\"The start time is :\",starttime)\n",
        "data = data.replace({'Image src error.': None}, subset = ['image_src'])\n",
        "# display image_src values\n",
        "data.groupBy('image_src').count().orderBy(\"count\", ascending=False).show(4)\n",
        "print(\"The time difference is :\", timeit.default_timer() - starttime)\n",
        "\n"
      ]
    },
    {
      "cell_type": "code",
      "execution_count": 32,
      "metadata": {
        "id": "ZgmSA9VIxygC",
        "outputId": "b15e74d3-ef2d-4a20-dfac-c1211780f43b"
      },
      "outputs": [
        {
          "name": "stdout",
          "output_type": "stream",
          "text": [
            "The start time is : 17631.978432928\n",
            "+--------------------+-----+\n",
            "|           image_src|count|\n",
            "+--------------------+-----+\n",
            "|https://i.pinimg....|    2|\n",
            "|https://i.pinimg....|    2|\n",
            "|https://i.pinimg....|    2|\n",
            "|https://i.pinimg....|    2|\n",
            "|https://i.pinimg....|    2|\n",
            "+--------------------+-----+\n",
            "only showing top 5 rows\n",
            "\n",
            "The time difference is : 0.5652917849984078\n"
          ]
        }
      ],
      "source": [
        "# drop the rows with null values in 'image_src' column, as we don't want a row without a pin\n",
        "starttime = timeit.default_timer()\n",
        "print(\"The start time is :\",starttime)\n",
        "data = data.na.drop(subset=[\"image_src\"])\n",
        "# display image_src values after removing nul values\n",
        "data.groupBy('image_src').count().orderBy(\"count\", ascending=False).show(5)\n",
        "print(\"The time difference is :\", timeit.default_timer() - starttime)\n",
        "\n"
      ]
    },
    {
      "cell_type": "code",
      "execution_count": 33,
      "metadata": {},
      "outputs": [
        {
          "name": "stdout",
          "output_type": "stream",
          "text": [
            "The start time is : 17632.588329142\n",
            "+--------------+-----+\n",
            "|follower_count|count|\n",
            "+--------------+-----+\n",
            "|            2M|  374|\n",
            "|            2k|  325|\n",
            "|            4k|  250|\n",
            "|          942k|  244|\n",
            "|            5k|  232|\n",
            "|            7k|  227|\n",
            "|            3k|  219|\n",
            "|            1k|  219|\n",
            "|            5M|  215|\n",
            "|            1M|  178|\n",
            "|            6k|  172|\n",
            "|            9k|  141|\n",
            "|            8k|  126|\n",
            "|           28k|  115|\n",
            "|           10k|  113|\n",
            "|           20k|   99|\n",
            "|           19k|   93|\n",
            "|          190k|   90|\n",
            "|           13k|   90|\n",
            "|           11k|   88|\n",
            "+--------------+-----+\n",
            "only showing top 20 rows\n",
            "\n",
            "The time difference is : 0.4390092399989953\n"
          ]
        }
      ],
      "source": [
        "# check errors in column\n",
        "starttime = timeit.default_timer()\n",
        "print(\"The start time is :\",starttime)\n",
        "data.groupBy('follower_count').count().orderBy(\"count\", ascending=False).show()\n",
        "print(\"The time difference is :\", timeit.default_timer() - starttime)\n"
      ]
    },
    {
      "cell_type": "code",
      "execution_count": 34,
      "metadata": {},
      "outputs": [
        {
          "name": "stdout",
          "output_type": "stream",
          "text": [
            "The start time is : 17633.092080884\n"
          ]
        },
        {
          "name": "stderr",
          "output_type": "stream",
          "text": [
            "                                                                                \r"
          ]
        },
        {
          "name": "stdout",
          "output_type": "stream",
          "text": [
            "The time difference is : 2.0102925960018183\n"
          ]
        }
      ],
      "source": [
        "# create a pandas dataframe which run much faster\n",
        "starttime = timeit.default_timer()\n",
        "print(\"The start time is :\",starttime)\n",
        "pddf = data.toPandas()\n",
        "print(\"The time difference is :\", timeit.default_timer() - starttime)\n"
      ]
    },
    {
      "cell_type": "code",
      "execution_count": 35,
      "metadata": {},
      "outputs": [
        {
          "name": "stdout",
          "output_type": "stream",
          "text": [
            "The start time is : 17635.148992818\n",
            "{'k', 'o', 'E', 's', 'n', 'U', 'e', ' ', 'f', 'M', 'I', 'r'}\n",
            "The time difference is : 0.00598904899743502\n"
          ]
        }
      ],
      "source": [
        "# check if there is any characters in the follower_count column\n",
        "starttime = timeit.default_timer()\n",
        "print(\"The start time is :\",starttime)\n",
        "a = []\n",
        "for i in pddf['follower_count'].to_list():\n",
        "    if i is not None:\n",
        "        for char in i:\n",
        "            if  not char.isdigit():\n",
        "                a.append(char)\n",
        "# print all the characters in this columns\n",
        "print(set(a))\n",
        "print(\"The time difference is :\", timeit.default_timer() - starttime)\n"
      ]
    },
    {
      "cell_type": "code",
      "execution_count": 36,
      "metadata": {},
      "outputs": [
        {
          "name": "stdout",
          "output_type": "stream",
          "text": [
            "The start time is : 17635.228712991\n",
            "User Info Error\n",
            "The time difference is : 0.0030868169997120276\n"
          ]
        }
      ],
      "source": [
        "# check each character \n",
        "starttime = timeit.default_timer()\n",
        "print(\"The start time is :\",starttime)\n",
        "for i in pddf['follower_count'].to_list():\n",
        "    if 'E' in i:\n",
        "        # print the item with error\n",
        "        print(i)\n",
        "print(\"The time difference is :\", timeit.default_timer() - starttime)\n"
      ]
    },
    {
      "cell_type": "code",
      "execution_count": 37,
      "metadata": {},
      "outputs": [
        {
          "name": "stdout",
          "output_type": "stream",
          "text": [
            "The start time is : 17635.30819853\n",
            "The time difference is : 0.015762486997118685\n"
          ]
        }
      ],
      "source": [
        "# replace 'User Info Error' with 0\n",
        "starttime = timeit.default_timer()\n",
        "print(\"The start time is :\",starttime)\n",
        "data = data.replace({'User Info Error': \"0\"}, subset = ['follower_count'])\n",
        "print(\"The time difference is :\", timeit.default_timer() - starttime)\n"
      ]
    },
    {
      "cell_type": "code",
      "execution_count": 38,
      "metadata": {},
      "outputs": [
        {
          "name": "stdout",
          "output_type": "stream",
          "text": [
            "The start time is : 17635.401188226\n",
            "The time difference is : 0.9389763160033908\n"
          ]
        }
      ],
      "source": [
        "# check it again if there is any characters in the follower_count column\n",
        "starttime = timeit.default_timer()\n",
        "print(\"The start time is :\",starttime)\n",
        "pddf = data.toPandas()\n",
        "a = []\n",
        "for i in pddf['follower_count'].to_list():\n",
        "    if i is not None:\n",
        "        for char in i:\n",
        "            if  not char.isdigit():\n",
        "                a.append(char)\n",
        "print(\"The time difference is :\", timeit.default_timer() - starttime)\n"
      ]
    },
    {
      "cell_type": "code",
      "execution_count": 39,
      "metadata": {},
      "outputs": [
        {
          "name": "stdout",
          "output_type": "stream",
          "text": [
            "The start time is : 17636.400503512\n",
            "number of 'M' or 'k' is:  8986\n",
            "{'M', 'k'}\n",
            "The time difference is : 0.0007851370028220117\n"
          ]
        }
      ],
      "source": [
        "# only 'M' 'k' need to be replaced by '000000' and '000' accordingly\n",
        "starttime = timeit.default_timer()\n",
        "print(\"The start time is :\",starttime)\n",
        "print(\"number of 'M' or 'k' is: \", len(a))\n",
        "print(set(a))\n",
        "print(\"The time difference is :\", timeit.default_timer() - starttime)\n"
      ]
    },
    {
      "cell_type": "code",
      "execution_count": 40,
      "metadata": {},
      "outputs": [
        {
          "name": "stdout",
          "output_type": "stream",
          "text": [
            "The start time is : 17636.519039217\n",
            "The time difference is : 0.17681461199754267\n"
          ]
        }
      ],
      "source": [
        "# replaced 'M', 'k' by '000000' and '000'\n",
        "starttime = timeit.default_timer()\n",
        "print(\"The start time is :\",starttime)\n",
        "data = data.withColumn('follower_count', \n",
        "    when(data.follower_count.endswith('M'),regexp_replace(data.follower_count,'M','000000')) \\\n",
        "   .when(data.follower_count.endswith('k'),regexp_replace(data.follower_count,'k','000')) \\\n",
        "   .otherwise(data.follower_count)) \n",
        "print(\"The time difference is :\", timeit.default_timer() - starttime)\n",
        "\n"
      ]
    },
    {
      "cell_type": "code",
      "execution_count": 41,
      "metadata": {},
      "outputs": [
        {
          "name": "stdout",
          "output_type": "stream",
          "text": [
            "The start time is : 17636.764051849\n",
            "+--------------+-----+\n",
            "|follower_count|count|\n",
            "+--------------+-----+\n",
            "|       2000000|  374|\n",
            "|          2000|  325|\n",
            "|          4000|  250|\n",
            "|        942000|  244|\n",
            "|          5000|  232|\n",
            "|          7000|  227|\n",
            "|          3000|  219|\n",
            "|          1000|  219|\n",
            "|       5000000|  215|\n",
            "|       1000000|  178|\n",
            "|          6000|  172|\n",
            "|          9000|  141|\n",
            "|          8000|  126|\n",
            "|         28000|  115|\n",
            "|         10000|  113|\n",
            "|         20000|   99|\n",
            "|         19000|   93|\n",
            "|         13000|   90|\n",
            "|        190000|   90|\n",
            "|         11000|   88|\n",
            "+--------------+-----+\n",
            "only showing top 20 rows\n",
            "\n",
            "The time difference is : 0.8526418090004881\n"
          ]
        }
      ],
      "source": [
        "# check it again\n",
        "starttime = timeit.default_timer()\n",
        "print(\"The start time is :\",starttime)\n",
        "data.groupBy('follower_count').count().orderBy(\"count\", ascending=False).show()\n",
        "print(\"The time difference is :\", timeit.default_timer() - starttime)\n"
      ]
    },
    {
      "cell_type": "code",
      "execution_count": 42,
      "metadata": {},
      "outputs": [
        {
          "name": "stdout",
          "output_type": "stream",
          "text": [
            "The start time is : 17637.683214949\n",
            "+----------+--------------------+----------+--------------+--------------------+-----+-----------------+-------------+--------------------+--------------------+--------------------+--------------------+\n",
            "|  category|         description|downloaded|follower_count|           image_src|index|is_image_or_video|  poster_name|       save_location|            tag_list|               title|           unique_id|\n",
            "+----------+--------------------+----------+--------------+--------------------+-----+-----------------+-------------+--------------------+--------------------+--------------------+--------------------+\n",
            "|   tattoos|Elmira Kruger sha...|         1|           848|https://i.pinimg....| 8822|            image|Alicia Keller|Local save in /da...|Arm Sleeve Tattoo...|Elmira Kruger on ...|db80a4e4-293a-45c...|\n",
            "|home-decor|Вместе с Русланом...|         1|           35k|https://i.pinimg....| 5996|            image|  INMYROOM.RU|Local save in /da...|Scandinavian Inte...|Где найти и как о...|4081ef06-637d-4cf...|\n",
            "+----------+--------------------+----------+--------------+--------------------+-----+-----------------+-------------+--------------------+--------------------+--------------------+--------------------+\n",
            "only showing top 2 rows\n",
            "\n",
            "The time difference is : 0.5924623620012426\n"
          ]
        }
      ],
      "source": [
        "# cast follower_count column type as int\n",
        "starttime = timeit.default_timer()\n",
        "print(\"The start time is :\",starttime)\n",
        "data = data.withColumn(\"follower_count\", F.col(\"follower_count\").cast(\"int\"))\n",
        "df.show(2)\n",
        "print(\"The time difference is :\", timeit.default_timer() - starttime)\n",
        "\n"
      ]
    },
    {
      "cell_type": "code",
      "execution_count": 43,
      "metadata": {},
      "outputs": [
        {
          "name": "stdout",
          "output_type": "stream",
          "text": [
            "The start time is : 17638.319509226\n",
            "The time difference is : 0.008557250999729149\n"
          ]
        }
      ],
      "source": [
        "# cassandra not allow use index as a key name, change \"index\" to \"idx\"\n",
        "starttime = timeit.default_timer()\n",
        "print(\"The start time is :\",starttime)\n",
        "data = data.withColumnRenamed('index', 'idx')\n",
        "\n",
        "print(\"The time difference is :\", timeit.default_timer() - starttime)\n"
      ]
    },
    {
      "cell_type": "code",
      "execution_count": 44,
      "metadata": {
        "id": "AhsdcEn_xygC"
      },
      "outputs": [
        {
          "name": "stdout",
          "output_type": "stream",
          "text": [
            "The start time is : 17638.391884772\n",
            "The time difference is : 0.03433494299679296\n"
          ]
        }
      ],
      "source": [
        "# reorder selected columns\n",
        "starttime = timeit.default_timer()\n",
        "print(\"The start time is :\",starttime)\n",
        "data = data.select('idx', 'title', 'poster_name', 'category', 'follower_count', 'description', 'image_src', 'is_image_or_video', 'tag_list', 'unique_id')\n",
        "print(\"The time difference is :\", timeit.default_timer() - starttime)\n"
      ]
    },
    {
      "cell_type": "code",
      "execution_count": 45,
      "metadata": {
        "id": "30z3jOoixygC"
      },
      "outputs": [
        {
          "name": "stdout",
          "output_type": "stream",
          "text": [
            "The start time is : 17638.476349367\n",
            "The time difference is : 0.012651852000999497\n"
          ]
        }
      ],
      "source": [
        "# reorder dataset with acsending index\n",
        "starttime = timeit.default_timer()\n",
        "print(\"The start time is :\",starttime)\n",
        "data = data.orderBy(\"idx\", ascending=True)\n",
        "print(\"The time difference is :\", timeit.default_timer() - starttime)\n",
        "\n"
      ]
    },
    {
      "cell_type": "code",
      "execution_count": 46,
      "metadata": {},
      "outputs": [],
      "source": [
        "# schema = StructType([\n",
        "#     StructField(\"index\",IntegerType(),True), \\\n",
        "#     StructField(\"title\",StringType(),True), \\\n",
        "#     StructField(\"poster_name\",StringType(),True), \\\n",
        "#     StructField(\"category\", StringType(), True), \\\n",
        "#     StructField(\"follower_count\", IntegerType(), True), \\\n",
        "#     StructField(\"description\", StringType(), True), \\\n",
        "#     StructField(\"downloaded\",IntegerType(),True), \\\n",
        "#     StructField(\"image_src\",StringType(),True), \\\n",
        "#     StructField(\"is_image_or_video\", StringType(), True), \\\n",
        "#     StructField(\"save_location\", StringType(), True), \\\n",
        "#     StructField(\"tag_list\", StringType(), True),  \\\n",
        "#     StructField(\"unique_id\",StringType(),True), \\\n",
        "#         ])\n",
        "# df = spark.createDataFrame(data=df.collect(),schema=schema)"
      ]
    },
    {
      "cell_type": "code",
      "execution_count": 47,
      "metadata": {},
      "outputs": [
        {
          "name": "stdout",
          "output_type": "stream",
          "text": [
            "The start time is : 17638.614986063\n",
            "The time difference is : 1.464999228999659\n"
          ]
        }
      ],
      "source": [
        "starttime = timeit.default_timer()\n",
        "print(\"The start time is :\",starttime)\n",
        "data.write.format(\"org.apache.spark.sql.redis\").option(\"table\", \"pins_redis\").option(\"key.column\", \"idx\").save()\n",
        "print(\"The time difference is :\", timeit.default_timer() - starttime)\n"
      ]
    },
    {
      "cell_type": "markdown",
      "metadata": {
        "id": "DLp6AJ1kxygD"
      },
      "source": [
        "### Send data to Cassandra"
      ]
    },
    {
      "cell_type": "code",
      "execution_count": 48,
      "metadata": {},
      "outputs": [],
      "source": [
        "# reloading data in spark-redis ready to save to cassandra\n",
        "starttime = timeit.default_timer()\n",
        "print(\"The start time is :\",starttime)\n",
        "df_redis = spark.read.format(\"org.apache.spark.sql.redis\").option(\"table\", \"pins_redis\").option(\"key.column\", \"index\").load()\n",
        "print(\"The time difference is :\", timeit.default_timer() - starttime)\n"
      ]
    },
    {
      "cell_type": "code",
      "execution_count": 49,
      "metadata": {},
      "outputs": [],
      "source": [
        "# initialise cassandra driver\n",
        "cluster = Cluster()\n",
        "session = cluster.connect()"
      ]
    },
    {
      "cell_type": "code",
      "execution_count": null,
      "metadata": {},
      "outputs": [],
      "source": [
        "# create a cassandra keyspace\n",
        "session.execute(\"CREATE KEYSPACE pinterest_project WITH replication = {'class':'SimpleStrategy', 'replication_factor' : 3};\")"
      ]
    },
    {
      "cell_type": "code",
      "execution_count": 62,
      "metadata": {},
      "outputs": [],
      "source": [
        "try:\n",
        "    session.execute(\"CREATE KEYSPACE pinterest_project WITH replication = {'class':'SimpleStrategy', 'replication_factor' : 3};\")\n",
        "except:\n",
        "    pass\n"
      ]
    },
    {
      "cell_type": "code",
      "execution_count": 54,
      "metadata": {},
      "outputs": [
        {
          "data": {
            "text/plain": [
              "<cassandra.cluster.ResultSet at 0x7efd66c1edf0>"
            ]
          },
          "execution_count": 54,
          "metadata": {},
          "output_type": "execute_result"
        }
      ],
      "source": [
        "# initialise named cassandra key space\n",
        "session.execute(\"USE pinterest_project;\")"
      ]
    },
    {
      "cell_type": "code",
      "execution_count": 65,
      "metadata": {},
      "outputs": [],
      "source": [
        "try:\n",
        "    session.execute(\"DROP TABLE pinterest\")\n",
        "except:\n",
        "    pass"
      ]
    },
    {
      "cell_type": "code",
      "execution_count": 67,
      "metadata": {},
      "outputs": [
        {
          "data": {
            "text/plain": [
              "<cassandra.cluster.ResultSet at 0x7efd66d63610>"
            ]
          },
          "execution_count": 67,
          "metadata": {},
          "output_type": "execute_result"
        }
      ],
      "source": [
        "session.execute(\"CREATE TABLE pinterest(idx int, title text, poster_name text, category text, follower_count int, description text, image_src text, is_image_or_video text, tag_list text, unique_id text PRIMARY KEY);\")\n"
      ]
    },
    {
      "cell_type": "code",
      "execution_count": 69,
      "metadata": {},
      "outputs": [
        {
          "name": "stdout",
          "output_type": "stream",
          "text": [
            "The start time is : 18436.57577475\n",
            "The time difference is : 7.913507859000674\n"
          ]
        }
      ],
      "source": [
        "# make preparedUpdate statements\n",
        "starttime = timeit.default_timer()\n",
        "print(\"The start time is :\",starttime)\n",
        "preparedUpdate = session.prepare(\n",
        "    \"\"\" \n",
        "    INSERT INTO pinterest (idx, title, poster_name, category, follower_count, description, image_src, is_image_or_video, tag_list, unique_id) VALUES(?, ?, ?, ?, ?, ?, ?, ?, ?, ?);\n",
        "    \"\"\"\n",
        ")\n",
        "\n",
        "\n",
        "# write df to cassandra\n",
        "for item in df_redis.collect():\n",
        "    session.execute(preparedUpdate, [item[0], item[1], item[2], item[3], item[4], item[5], item[6], item[7], item[8], item[9]])\n",
        "print(\"The time difference is :\", timeit.default_timer() - starttime)\n",
        "\n",
        "\n"
      ]
    },
    {
      "cell_type": "code",
      "execution_count": null,
      "metadata": {},
      "outputs": [],
      "source": [
        "# Read pinterest table in cassandra\n",
        "results = session.execute(\"SELECT * FROM pinterest\")"
      ]
    },
    {
      "cell_type": "code",
      "execution_count": null,
      "metadata": {},
      "outputs": [
        {
          "name": "stdout",
          "output_type": "stream",
          "text": [
            "Row(idx=4317, category='education', description='Women in the Modern World : Annals of the American Academy of Political and Social Science, V143, May, 1929', follower_count=2000000, image_src='https://i.pinimg.com/originals/d9/85/5e/d9855ea66daf142e7a8e8d3671dfe1af.jpg', is_image_or_video='image', poster_name='Walmart', tag_list='Way Of Life,The Life,Inspiring Meaning,John Calvin,Battle Of Waterloo,National Convention,Move Mountains,Public Speaking,Human Nature', title='Women in the Modern World: Annals of the American Academy of Political and Social Science, V143, May, 1929 (Paperback) - Walmart.com', unique_id='ebce1b3d-149c-498d-bef6-e5538dc4d341')\n"
          ]
        },
        {
          "name": "stderr",
          "output_type": "stream",
          "text": [
            "/tmp/ipykernel_51283/302529547.py:2: DeprecationWarning: ResultSet indexing support will be removed in 4.0. Consider using ResultSet.one() to get a single row.\n",
            "  print(results[0])\n"
          ]
        }
      ],
      "source": [
        "# check if table in cassandra has read\n",
        "# print first row of the table\n",
        "print(results[0])"
      ]
    },
    {
      "cell_type": "code",
      "execution_count": null,
      "metadata": {},
      "outputs": [],
      "source": [
        "# shutdown cassandra session and cluster\n",
        "\n",
        "session.cluster.shutdown()\n",
        "session.shutdown()"
      ]
    },
    {
      "cell_type": "code",
      "execution_count": null,
      "metadata": {},
      "outputs": [],
      "source": [
        "# stop spark\n",
        "spark.stop()"
      ]
    },
    {
      "cell_type": "code",
      "execution_count": null,
      "metadata": {},
      "outputs": [],
      "source": []
    },
    {
      "cell_type": "code",
      "execution_count": null,
      "metadata": {},
      "outputs": [],
      "source": []
    },
    {
      "cell_type": "code",
      "execution_count": null,
      "metadata": {},
      "outputs": [],
      "source": []
    }
  ],
  "metadata": {
    "colab": {
      "provenance": []
    },
    "kernelspec": {
      "display_name": "pin_app",
      "language": "python",
      "name": "python3"
    },
    "language_info": {
      "codemirror_mode": {
        "name": "ipython",
        "version": 3
      },
      "file_extension": ".py",
      "mimetype": "text/x-python",
      "name": "python",
      "nbconvert_exporter": "python",
      "pygments_lexer": "ipython3",
      "version": "3.8.10"
    },
    "orig_nbformat": 4,
    "vscode": {
      "interpreter": {
        "hash": "aa3c2183eefee0441b9afc282fff2c45f91aae1bdb1609dae94dd7f981e781ca"
      }
    }
  },
  "nbformat": 4,
  "nbformat_minor": 0
}
